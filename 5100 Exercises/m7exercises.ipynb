{
 "cells": [
  {
   "cell_type": "code",
   "execution_count": 1,
   "id": "75c3a5a0-b264-4b18-adbe-417aea1a6c3e",
   "metadata": {},
   "outputs": [],
   "source": [
    "class MyClass():\n",
    "    '''\n",
    "    Example class for Exercise 7.1\n",
    "    '''\n",
    "\n",
    "    att1 = \"foo\"\n",
    "\n",
    "    def __init__(self, att2):\n",
    "        self.att2 = att2\n",
    "\n",
    "    def add(self):\n",
    "        self.cat = self.att1 + \" \" + self.att2\n",
    "        print(self.cat)"
   ]
  },
  {
   "cell_type": "code",
   "execution_count": 2,
   "id": "784e256e-3e64-4500-9318-d901aa755f96",
   "metadata": {},
   "outputs": [],
   "source": [
    "myobj = MyClass(\"Bar and says, 'Got any milk?'\")"
   ]
  },
  {
   "cell_type": "code",
   "execution_count": 3,
   "id": "2e1fe292-6368-42f7-9a0b-48a89e396e69",
   "metadata": {},
   "outputs": [
    {
     "data": {
      "text/plain": [
       "('foo', \"Bar and says, 'Got any milk?'\")"
      ]
     },
     "execution_count": 3,
     "metadata": {},
     "output_type": "execute_result"
    }
   ],
   "source": [
    "myobj.att1, myobj.att2"
   ]
  },
  {
   "cell_type": "code",
   "execution_count": 4,
   "id": "68b96fa8-44ae-4784-8006-864cfb6486cd",
   "metadata": {},
   "outputs": [
    {
     "name": "stdout",
     "output_type": "stream",
     "text": [
      "foo Bar and says, 'Got any milk?'\n"
     ]
    }
   ],
   "source": [
    "myobj.add()"
   ]
  },
  {
   "cell_type": "code",
   "execution_count": 5,
   "id": "11a6c8f0-e207-48fa-af5d-41c7d3925113",
   "metadata": {},
   "outputs": [],
   "source": [
    "import pandas as pd\n",
    "\n",
    "class Student():\n",
    "\n",
    "    def __init__(self, name, sid):\n",
    "        self.name = name\n",
    "        self.id = sid\n",
    "        self.grades = pd.Series(dtype = float)\n",
    "\n",
    "    def add_grade(self, assn, grade):\n",
    "        self.grades.loc[assn] = grade\n",
    "\n",
    "    def plot_grades(self):\n",
    "        self.grades.plot.bar(title = f\"{self.name} ({self.id})\")"
   ]
  },
  {
   "cell_type": "code",
   "execution_count": 6,
   "id": "fc391bf0-6d13-4053-8814-35e7ae16cd70",
   "metadata": {},
   "outputs": [],
   "source": [
    "student = Student(\"Ben Pelczynski\", \"mdg7wj\")"
   ]
  },
  {
   "cell_type": "code",
   "execution_count": 7,
   "id": "ad41a750-7586-45f1-8d2e-820cfa40c59b",
   "metadata": {},
   "outputs": [],
   "source": [
    "student.add_grade(\"HW01\", 100)\n",
    "student.add_grade(\"HW02\", 89)\n",
    "student.add_grade(\"HW03\", 95)\n",
    "student.add_grade(\"HW04\", 90)"
   ]
  },
  {
   "cell_type": "code",
   "execution_count": 8,
   "id": "e8e16f25-bf0b-4bb7-95bd-dd76ac18619b",
   "metadata": {},
   "outputs": [
    {
     "data": {
      "image/png": "[encoded data removed]",
      "text/plain": [
       "<Figure size 640x480 with 1 Axes>"
      ]
     },
     "metadata": {},
     "output_type": "display_data"
    }
   ],
   "source": [
    "student.plot_grades()"
   ]
  },
  {
   "cell_type": "code",
   "execution_count": 9,
   "id": "a6d81314-46d5-4b1d-9515-5caca79c7619",
   "metadata": {},
   "outputs": [],
   "source": [
    "class V3():\n",
    "\n",
    "    def __init__(self, instance_size, num_vcpus, memory, disk_space):\n",
    "        self.instance_size = instance_size \n",
    "        self.num_vcpus = num_vcpus\n",
    "        self.memory = memory\n",
    "        self.disk_space = disk_space\n",
    "\n",
    "    def add_disk_space(self, amt_to_add):\n",
    "        self.disk_space += amt_to_add\n",
    "\n",
    "    def has_enough_disk_space(self, amt_required):\n",
    "        if amt_required > self.disk_space:\n",
    "            print(\"Not enough disk space! >:(\")\n",
    "            return False\n",
    "        else:\n",
    "            print(\"There is enough disk space! :)\")\n",
    "            return True"
   ]
  },
  {
   "cell_type": "code",
   "execution_count": 10,
   "id": "fe32709e-7622-4ee8-a145-e70201d0e0c6",
   "metadata": {},
   "outputs": [],
   "source": [
    "vthree = V3(\"large\", 32, 256, 1.)"
   ]
  },
  {
   "cell_type": "code",
   "execution_count": 11,
   "id": "26284697-c370-46a1-a2d7-70a0ca67f5e0",
   "metadata": {},
   "outputs": [],
   "source": [
    "vthree.add_disk_space(2.)"
   ]
  },
  {
   "cell_type": "code",
   "execution_count": 12,
   "id": "273fe71f-b09d-4b7a-9a89-520f9e48aeab",
   "metadata": {},
   "outputs": [
    {
     "data": {
      "text/plain": [
       "3.0"
      ]
     },
     "execution_count": 12,
     "metadata": {},
     "output_type": "execute_result"
    }
   ],
   "source": [
    "vthree.disk_space"
   ]
  },
  {
   "cell_type": "code",
   "execution_count": 13,
   "id": "dfe9a4ae-f60d-41d7-8c79-245f27584564",
   "metadata": {},
   "outputs": [
    {
     "name": "stdout",
     "output_type": "stream",
     "text": [
      "Not enough disk space! >:(\n"
     ]
    },
    {
     "data": {
      "text/plain": [
       "False"
      ]
     },
     "execution_count": 13,
     "metadata": {},
     "output_type": "execute_result"
    }
   ],
   "source": [
    "vthree.has_enough_disk_space(10.)"
   ]
  },
  {
   "cell_type": "code",
   "execution_count": 14,
   "id": "b126cbc3-037f-4937-9af3-38574fac4eb0",
   "metadata": {},
   "outputs": [],
   "source": [
    "from math import pi\n",
    "\n",
    "class Circle():\n",
    "\n",
    "    def __init__(self, r):\n",
    "        self.r = r\n",
    "        \n",
    "    def area(self):\n",
    "        self.area = round(self.r ** 2 * pi, 2)\n",
    "        \n",
    "    def circumference(self):\n",
    "        self.circumference = round(2 * pi * self.r, 2)"
   ]
  },
  {
   "cell_type": "code",
   "execution_count": 15,
   "id": "9ad625fd-306a-4916-a565-5f5de8eec218",
   "metadata": {},
   "outputs": [],
   "source": [
    "circ = Circle(8)"
   ]
  },
  {
   "cell_type": "code",
   "execution_count": 16,
   "id": "ca575d04-51bf-429a-a903-ffc941620865",
   "metadata": {},
   "outputs": [],
   "source": [
    "circ.area()"
   ]
  },
  {
   "cell_type": "code",
   "execution_count": 17,
   "id": "3dd6b717-2a9b-42fa-b54d-09bd6bae6ed5",
   "metadata": {},
   "outputs": [],
   "source": [
    "circ.circumference()"
   ]
  },
  {
   "cell_type": "code",
   "execution_count": 18,
   "id": "138774f5-8fad-40b0-8d80-979e1349062c",
   "metadata": {},
   "outputs": [
    {
     "name": "stdout",
     "output_type": "stream",
     "text": [
      "201.06 50.27\n"
     ]
    }
   ],
   "source": [
    "print(circ.area, circ.circumference)"
   ]
  },
  {
   "cell_type": "code",
   "execution_count": 26,
   "id": "9f2eeeaa-d1aa-4396-9b48-248308d8ad47",
   "metadata": {},
   "outputs": [],
   "source": [
    "class Rectangle():\n",
    "\n",
    "    def __init__(self, l, w):\n",
    "        self.l = l\n",
    "        self.w = w\n",
    "\n",
    "    def area(self):\n",
    "        self.area = self.l * self.w\n",
    "\n",
    "    def return_area(self):\n",
    "        return self.area"
   ]
  },
  {
   "cell_type": "code",
   "execution_count": 27,
   "id": "47ce478e-efda-430a-afad-5e9f151c010b",
   "metadata": {},
   "outputs": [
    {
     "data": {
      "text/plain": [
       "15"
      ]
     },
     "execution_count": 27,
     "metadata": {},
     "output_type": "execute_result"
    }
   ],
   "source": [
    "rect = Rectangle(3, 5)\n",
    "rect.area()\n",
    "rect.return_area()"
   ]
  },
  {
   "cell_type": "code",
   "execution_count": 31,
   "id": "678516ad-3d58-4010-a1a5-f71069a7b089",
   "metadata": {},
   "outputs": [],
   "source": [
    "class Geometry():\n",
    "\n",
    "    def area(l, w):\n",
    "        return l * w"
   ]
  },
  {
   "cell_type": "code",
   "execution_count": 32,
   "id": "c214bfa3-9fe5-4039-92a7-c04361ddd9b9",
   "metadata": {},
   "outputs": [
    {
     "data": {
      "text/plain": [
       "150"
      ]
     },
     "execution_count": 32,
     "metadata": {},
     "output_type": "execute_result"
    }
   ],
   "source": [
    "Geometry.area(10, 15)"
   ]
  },
  {
   "cell_type": "code",
   "execution_count": 37,
   "id": "0ca88992-52f9-4a3e-aca8-3bc2b4cb63bd",
   "metadata": {},
   "outputs": [],
   "source": [
    "class T2T():\n",
    "\n",
    "    c2f = lambda x: 1.8*x + 32\n",
    "\n",
    "    f2c = lambda x: (x - 32)/1.8"
   ]
  },
  {
   "cell_type": "code",
   "execution_count": 38,
   "id": "b3cde04c-7859-453f-a9d2-0fea41b4cf0f",
   "metadata": {},
   "outputs": [
    {
     "data": {
      "text/plain": [
       "113.0"
      ]
     },
     "execution_count": 38,
     "metadata": {},
     "output_type": "execute_result"
    }
   ],
   "source": [
    "T2T.c2f(45)"
   ]
  },
  {
   "cell_type": "code",
   "execution_count": null,
   "id": "c53b76e7-0408-4326-a4c5-9f958f51c8f4",
   "metadata": {},
   "outputs": [],
   "source": []
  }
 ],
 "metadata": {
  "kernelspec": {
   "display_name": "Python 3 (ipykernel)",
   "language": "python",
   "name": "python3"
  },
  "language_info": {
   "codemirror_mode": {
    "name": "ipython",
    "version": 3
   },
   "file_extension": ".py",
   "mimetype": "text/x-python",
   "name": "python",
   "nbconvert_exporter": "python",
   "pygments_lexer": "ipython3",
   "version": "3.12.2"
  }
 },
 "nbformat": 4,
 "nbformat_minor": 5
}
