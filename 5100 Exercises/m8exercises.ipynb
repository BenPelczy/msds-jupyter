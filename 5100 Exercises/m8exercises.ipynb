{
 "cells": [
  {
   "cell_type": "code",
   "execution_count": 4,
   "id": "aff396bf-fee6-42b5-aa8b-a88138008e34",
   "metadata": {},
   "outputs": [
    {
     "name": "stdout",
     "output_type": "stream",
     "text": [
      "ERROR:  division by zero\n"
     ]
    }
   ],
   "source": [
    "x = 5\n",
    "y = 0\n",
    "try:\n",
    "    print(x/y)\n",
    "except ZeroDivisionError as e:\n",
    "    print(\"ERROR: \", e)"
   ]
  },
  {
   "cell_type": "code",
   "execution_count": 5,
   "id": "3e7d0eb9-c245-4987-9dc0-759c7d18c3b2",
   "metadata": {},
   "outputs": [
    {
     "name": "stdout",
     "output_type": "stream",
     "text": [
      "5.0\n"
     ]
    }
   ],
   "source": [
    "z = 1\n",
    "try:\n",
    "    print(x/z)\n",
    "except ZeroDivisionError as e:\n",
    "    print(\"ERROR: \", e)"
   ]
  },
  {
   "cell_type": "code",
   "execution_count": 6,
   "id": "210d098f-09bb-4364-bbc5-5f5b51ebe170",
   "metadata": {},
   "outputs": [],
   "source": [
    "tbool = True\n",
    "fbool = False"
   ]
  },
  {
   "cell_type": "code",
   "execution_count": 19,
   "id": "55fb9a76-4b3e-4219-ba03-7c1b5660f910",
   "metadata": {},
   "outputs": [],
   "source": [
    "assert tbool, \"This is false and should be true.\""
   ]
  },
  {
   "cell_type": "code",
   "execution_count": 20,
   "id": "ab9e8b21-5fcc-4fb0-addc-9f256c124eb4",
   "metadata": {},
   "outputs": [
    {
     "ename": "AssertionError",
     "evalue": "This is false and should be true.",
     "output_type": "error",
     "traceback": [
      "\u001b[0;31m---------------------------------------------------------------------------\u001b[0m",
      "\u001b[0;31mAssertionError\u001b[0m                            Traceback (most recent call last)",
      "Cell \u001b[0;32mIn[20], line 1\u001b[0m\n\u001b[0;32m----> 1\u001b[0m \u001b[38;5;28;01massert\u001b[39;00m fbool, \u001b[38;5;124m\"\u001b[39m\u001b[38;5;124mThis is false and should be true.\u001b[39m\u001b[38;5;124m\"\u001b[39m\n",
      "\u001b[0;31mAssertionError\u001b[0m: This is false and should be true."
     ]
    }
   ],
   "source": [
    "assert fbool, \"This is false and should be true.\""
   ]
  },
  {
   "cell_type": "code",
   "execution_count": 16,
   "id": "019329dd-d1cd-4cd4-bf07-5e4f80bffca6",
   "metadata": {},
   "outputs": [],
   "source": [
    "import math\n",
    "\n",
    "def area(r):\n",
    "    return r ** 2 * math.pi"
   ]
  },
  {
   "cell_type": "code",
   "execution_count": 23,
   "id": "4406f413-42d0-4a8a-b4c0-746160f19efe",
   "metadata": {},
   "outputs": [],
   "source": [
    "assert isinstance(area(1), float), \"Is not a float\""
   ]
  },
  {
   "cell_type": "code",
   "execution_count": 24,
   "id": "a8e03c5f-8e40-4246-a992-1e607a0c9c5f",
   "metadata": {},
   "outputs": [],
   "source": [
    "assert area(0) == 0, \"Is not 0\""
   ]
  },
  {
   "cell_type": "code",
   "execution_count": 25,
   "id": "be13d4b1-ed1d-4fc2-a01d-ceb34b67f7fd",
   "metadata": {},
   "outputs": [],
   "source": [
    "assert math.isclose(area(5), 78.5, abs_tol=0.1), \"Isn't close\""
   ]
  },
  {
   "cell_type": "code",
   "execution_count": 31,
   "id": "07fb0f9e-9a11-436a-918f-9f06b879f405",
   "metadata": {},
   "outputs": [],
   "source": [
    "!python student.py"
   ]
  },
  {
   "cell_type": "code",
   "execution_count": 34,
   "id": "fc383a26-a22c-48a7-8247-07f37bf5b340",
   "metadata": {},
   "outputs": [
    {
     "name": "stdout",
     "output_type": "stream",
     "text": [
      "test_01 (__main__.StudentTests.test_01) ... ok\n",
      "test_02 (__main__.StudentTests.test_02) ... ok\n",
      "test_03 (__main__.StudentTests.test_03) ... I'm not in that course!\n",
      "ok\n",
      "\n",
      "----------------------------------------------------------------------\n",
      "Ran 3 tests in 0.000s\n",
      "\n",
      "OK\n"
     ]
    }
   ],
   "source": [
    "!python student_test.py"
   ]
  },
  {
   "cell_type": "code",
   "execution_count": 35,
   "id": "405adb6a-3439-4f12-88b7-c30039135bf6",
   "metadata": {},
   "outputs": [
    {
     "name": "stdout",
     "output_type": "stream",
     "text": [
      "I'm not in that course!\n"
     ]
    }
   ],
   "source": [
    "!python student_test.py 2> test-results.txt"
   ]
  },
  {
   "cell_type": "code",
   "execution_count": 36,
   "id": "80b02d87-8702-4c79-842e-c0fb9c05ee1b",
   "metadata": {},
   "outputs": [
    {
     "name": "stdout",
     "output_type": "stream",
     "text": [
      "test_01 (__main__.StudentTests.test_01) ... ok\n",
      "test_02 (__main__.StudentTests.test_02) ... ok\n",
      "test_03 (__main__.StudentTests.test_03) ... ok\n",
      "\n",
      "----------------------------------------------------------------------\n",
      "Ran 3 tests in 0.000s\n",
      "\n",
      "OK\n",
      "\u001b[K\u001b[?1l\u001b>esults.txt (END)\u001b[m\u001b[K\u0007"
     ]
    }
   ],
   "source": [
    "!more test-results.txt"
   ]
  },
  {
   "cell_type": "code",
   "execution_count": 37,
   "id": "e373dec5-77ce-47bd-8625-5a09554162f7",
   "metadata": {},
   "outputs": [],
   "source": [
    "class Car:\n",
    "\n",
    "    body_types = [\"suv\", \"crossover\", \"sedan\", \"hatchback\", \"sport\"]\n",
    "    engine_types = [\"electric\", \"gas\", \"diesel\", \"hybrid\"]\n",
    "\n",
    "    def __init__(self, body_type, engine_type):\n",
    "        if body_type not in self.body_types:\n",
    "            raise ValueError(\"Not in body types!\")\n",
    "        if engine_type not in self.engine_types:\n",
    "            raise ValueError(\"Not in engine types!\")\n",
    "        self.body_type = body_type\n",
    "        self.engine_type = engine_type\n",
    "\n",
    "    def describe_car(self):\n",
    "        return f\"{self.engine_type} {self.body_type}\"\n",
    "\n",
    "class Subaru(Car):\n",
    "\n",
    "    def __init__(self, body_type, engine_type, year, model, trim=None):\n",
    "        self.year = year\n",
    "        self.model = model\n",
    "        self.trim = trim\n",
    "        Car.__init__(self, body_type, engine_type)\n",
    "\n",
    "    def describe(self):\n",
    "        return f\"{self.year} {self.model} {self.trim} ({self.describe_car()})\""
   ]
  },
  {
   "cell_type": "code",
   "execution_count": 38,
   "id": "609223a6-14bf-4340-82ee-036fbe5d8ba3",
   "metadata": {},
   "outputs": [],
   "source": [
    "mycar = Subaru(\"crossover\", \"gas\", \"2022\", \"outback\", \"sport\")"
   ]
  },
  {
   "cell_type": "code",
   "execution_count": 40,
   "id": "16f65829-ca73-4a27-ac5b-a89ae8942e3e",
   "metadata": {},
   "outputs": [
    {
     "data": {
      "text/plain": [
       "'2022 outback sport (gas crossover)'"
      ]
     },
     "execution_count": 40,
     "metadata": {},
     "output_type": "execute_result"
    }
   ],
   "source": [
    "mycar.describe()"
   ]
  },
  {
   "cell_type": "code",
   "execution_count": 41,
   "id": "9e4b4fc5-3b78-4181-9b14-dd989f596563",
   "metadata": {},
   "outputs": [],
   "source": [
    "try:\n",
    "    mycar = Subaru(\"crossover\", \"gas\", \"2022\", \"outback\", \"sport\")\n",
    "except ValueError as e:\n",
    "    print(e)"
   ]
  },
  {
   "cell_type": "code",
   "execution_count": null,
   "id": "fabfb5c2-d118-4181-b9db-6ad03fbb7fe5",
   "metadata": {},
   "outputs": [],
   "source": []
  }
 ],
 "metadata": {
  "kernelspec": {
   "display_name": "Python 3 (ipykernel)",
   "language": "python",
   "name": "python3"
  },
  "language_info": {
   "codemirror_mode": {
    "name": "ipython",
    "version": 3
   },
   "file_extension": ".py",
   "mimetype": "text/x-python",
   "name": "python",
   "nbconvert_exporter": "python",
   "pygments_lexer": "ipython3",
   "version": "3.12.2"
  }
 },
 "nbformat": 4,
 "nbformat_minor": 5
}
