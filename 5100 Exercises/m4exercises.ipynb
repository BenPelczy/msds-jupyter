{
 "cells": [
  {
   "cell_type": "code",
   "execution_count": 36,
   "id": "f5b856e1-eb6c-466b-9fd4-7e7e41a8e82e",
   "metadata": {},
   "outputs": [],
   "source": [
    "def string_length(str, i):\n",
    "    \"\"\"\n",
    "    Checks if the length of a string is equal to a value.\n",
    "\n",
    "    Parameters:\n",
    "    str - a given string\n",
    "    i - a given integer\n",
    "\n",
    "    Output: True or False\n",
    "    \"\"\"\n",
    "    if len(str) == i:\n",
    "        return True\n",
    "    return False"
   ]
  },
  {
   "cell_type": "code",
   "execution_count": 37,
   "id": "7426ee42-999f-40be-93f4-b16c2b423e4f",
   "metadata": {},
   "outputs": [
    {
     "data": {
      "text/plain": [
       "True"
      ]
     },
     "execution_count": 37,
     "metadata": {},
     "output_type": "execute_result"
    }
   ],
   "source": [
    "string_length(\"is this text the right length?\", 30)"
   ]
  },
  {
   "cell_type": "code",
   "execution_count": 38,
   "id": "4f51770c-fad7-43f5-8e90-2dc17b9e7407",
   "metadata": {},
   "outputs": [],
   "source": [
    "def square(*args):\n",
    "    \"\"\"\n",
    "    Prints the square value of each parameter.\n",
    "\n",
    "    Parameters:\n",
    "    *args - any amount of numbers\n",
    "\n",
    "    Output: None\n",
    "    \"\"\"\n",
    "    for i in args:\n",
    "        print(i**2)\n",
    "    return None"
   ]
  },
  {
   "cell_type": "code",
   "execution_count": 39,
   "id": "1daf56be-ff6a-481a-9330-c9cbc5bd665f",
   "metadata": {},
   "outputs": [
    {
     "name": "stdout",
     "output_type": "stream",
     "text": [
      "9\n",
      "36\n",
      "81\n"
     ]
    }
   ],
   "source": [
    "square(3, 6, 9)"
   ]
  },
  {
   "cell_type": "code",
   "execution_count": 40,
   "id": "14b0fe05-909d-4de3-bf47-fd9a665f5e0e",
   "metadata": {},
   "outputs": [],
   "source": [
    "def word_shortener(string, min_len = 4):\n",
    "    \"\"\"\n",
    "    Shortens a word to just the first letter, last letter, and middle length.\n",
    "\n",
    "    Parameters:\n",
    "    string - a given string\n",
    "    min_len - Default = 4; the minumum length for a word to be shortened\n",
    "\n",
    "    Output: the shortened form of string\n",
    "    \"\"\"\n",
    "    if not isinstance(string, str):\n",
    "        print(\"ERROR: not a string\")\n",
    "        return None\n",
    "    if len(string) < min_len:\n",
    "        print(\"ERROR: string is too small to be shortened\")\n",
    "        return None\n",
    "    return string[0].upper() + str(len(string[1:-1])) + string[-1].upper()"
   ]
  },
  {
   "cell_type": "code",
   "execution_count": 41,
   "id": "abdbaf03-ebf0-4480-adbd-f4053a71c2b4",
   "metadata": {},
   "outputs": [
    {
     "data": {
      "text/plain": [
       "'I18N'"
      ]
     },
     "execution_count": 41,
     "metadata": {},
     "output_type": "execute_result"
    }
   ],
   "source": [
    "word_shortener(\"internationalization\")"
   ]
  },
  {
   "cell_type": "code",
   "execution_count": 42,
   "id": "4f56f2c8-2df3-48f2-8984-e335df116fc1",
   "metadata": {},
   "outputs": [],
   "source": [
    "def five_or_more(x):\n",
    "    \"\"\"\n",
    "    Returns 1 if a given number is 5 or more, and 0 otherwise.\n",
    "\n",
    "    Parameters:\n",
    "    x - a given number\n",
    "\n",
    "    Output: 1 or 0\n",
    "    \"\"\"\n",
    "    if x - 5 >= 0:\n",
    "        return 1\n",
    "    return 0"
   ]
  },
  {
   "cell_type": "code",
   "execution_count": 43,
   "id": "a8307faf-8f0e-44c8-b38e-bed4bd05de41",
   "metadata": {},
   "outputs": [
    {
     "data": {
      "text/plain": [
       "1"
      ]
     },
     "execution_count": 43,
     "metadata": {},
     "output_type": "execute_result"
    }
   ],
   "source": [
    "five_or_more(5)"
   ]
  },
  {
   "cell_type": "code",
   "execution_count": 44,
   "id": "940f7ce0-06a9-4164-9308-de225a302563",
   "metadata": {},
   "outputs": [
    {
     "data": {
      "text/plain": [
       "1"
      ]
     },
     "execution_count": 44,
     "metadata": {},
     "output_type": "execute_result"
    }
   ],
   "source": [
    "five_or_more(16)"
   ]
  },
  {
   "cell_type": "code",
   "execution_count": 45,
   "id": "162a3169-7f2f-4707-99a3-bb7e13e7538f",
   "metadata": {},
   "outputs": [
    {
     "data": {
      "text/plain": [
       "0"
      ]
     },
     "execution_count": 45,
     "metadata": {},
     "output_type": "execute_result"
    }
   ],
   "source": [
    "five_or_more(2)"
   ]
  },
  {
   "cell_type": "code",
   "execution_count": null,
   "id": "5d7b1c8b-6f30-496f-a30d-43274d97b29c",
   "metadata": {},
   "outputs": [],
   "source": []
  }
 ],
 "metadata": {
  "kernelspec": {
   "display_name": "Python 3 (ipykernel)",
   "language": "python",
   "name": "python3"
  },
  "language_info": {
   "codemirror_mode": {
    "name": "ipython",
    "version": 3
   },
   "file_extension": ".py",
   "mimetype": "text/x-python",
   "name": "python",
   "nbconvert_exporter": "python",
   "pygments_lexer": "ipython3",
   "version": "3.12.2"
  }
 },
 "nbformat": 4,
 "nbformat_minor": 5
}
