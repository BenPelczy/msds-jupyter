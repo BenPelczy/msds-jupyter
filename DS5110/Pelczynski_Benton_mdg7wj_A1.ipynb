{
 "cells": [
  {
   "cell_type": "code",
   "execution_count": 1,
   "id": "ccf3af28-0876-4a08-97a6-abb3b827f5f0",
   "metadata": {},
   "outputs": [],
   "source": [
    "\"\"\"\n",
    "This is a skeleton of Assignment 1 for DS5110/CS5501 Spring 2024 (UVA).\n",
    "NOTE you will need to change the .ipynb file name by following the naming convention.\n",
    "Code should be commented well. \n",
    "Feel free to import any missing packages or add extra cells as you see fit. \n",
    "\"\"\"\n",
    "import dask\n",
    "from dask.distributed import Client\n",
    "import dask.dataframe as dd\n",
    "import time\n",
    "import json\n",
    "import numpy as np"
   ]
  },
  {
   "cell_type": "code",
   "execution_count": 2,
   "id": "e7052a95-e1ac-45f2-8db4-b86fff29de96",
   "metadata": {},
   "outputs": [
    {
     "name": "stdout",
     "output_type": "stream",
     "text": [
      "None\n"
     ]
    }
   ],
   "source": [
    "client = Client('172.31.4.232:8786')\n",
    "client = client.restart()\n",
    "print(client)"
   ]
  },
  {
   "cell_type": "code",
   "execution_count": 3,
   "id": "bbf9080f-6152-4e9b-a26c-6938127492ac",
   "metadata": {},
   "outputs": [
    {
     "name": "stdout",
     "output_type": "stream",
     "text": [
      "CPU times: user 661 ms, sys: 2.49 s, total: 3.15 s\n",
      "Wall time: 3.14 s\n"
     ]
    }
   ],
   "source": [
    "%%time\n",
    "\n",
    "# You should have already extracted the two .CSV files from stackoverflow.zip\n",
    "# Load the .CSV files into the Dask dataframes\n",
    "questions = dd.read_csv('/home/ubuntu/questions.csv', sample=2**30, assume_missing=True)\n",
    "question_tags = dd.read_csv('/home/ubuntu/question_tags.csv', sample=2**30, assume_missing=True)"
   ]
  },
  {
   "cell_type": "code",
   "execution_count": 4,
   "id": "cee1f11d-5734-4bff-af36-7a205155eb74",
   "metadata": {},
   "outputs": [
    {
     "name": "stdout",
     "output_type": "stream",
     "text": [
      "Questions Missing Value %:\n",
      " Id               0.000000\n",
      "CreationDate     0.000000\n",
      "ClosedDate      89.973578\n",
      "DeletionDate    76.962907\n",
      "Score            0.000000\n",
      "OwnerUserId     23.920885\n",
      "AnswerCount     10.114036\n",
      "dtype: float64\n",
      "Question_Tags Missing Value %:\n",
      " Id     0.000000\n",
      "Tag    0.027501\n",
      "dtype: float64\n",
      "CPU times: user 91.8 ms, sys: 10.2 ms, total: 102 ms\n",
      "Wall time: 44.4 s\n"
     ]
    }
   ],
   "source": [
    "%%time\n",
    "# Task 1: Get the percentage of missing values for all the columns in the questions table and the question_tags table.\n",
    "\n",
    "# Compute and print missing value percentage for all columns of questions\n",
    "print(\"Questions Missing Value %:\\n\", (questions.isnull().sum()/len(questions)*100).compute())\n",
    "\n",
    "# Compute and print missing value percentage for all columns of question_tags\n",
    "print(\"Question_Tags Missing Value %:\\n\", (question_tags.isnull().sum()/len(question_tags)*100).compute())"
   ]
  },
  {
   "cell_type": "code",
   "execution_count": 5,
   "id": "243c58de-758c-4cad-8103-0df07fe72681",
   "metadata": {},
   "outputs": [
    {
     "name": "stdout",
     "output_type": "stream",
     "text": [
      "Score Mean: 1.2041671665555287\n",
      "Score Standard Deviation: 15.64573552737141\n",
      "Score Medium: 1.0\n",
      "Score Max: 16902.0\n",
      "Score Min: -154.0\n",
      "CPU times: user 164 ms, sys: 52.2 ms, total: 216 ms\n",
      "Wall time: 52.8 s\n"
     ]
    }
   ],
   "source": [
    "%%time\n",
    "# Task 2: Get mean, standard deviation, medium, min, and max of the Score column in the questions table.\n",
    "\n",
    "print(\"Score Mean:\", (questions[\"Score\"].mean()).compute()) # Print mean\n",
    "print(\"Score Standard Deviation:\", (questions[\"Score\"].std()).compute()) # Print standard deviation\n",
    "print(\"Score Medium:\", (questions[\"Score\"].median_approximate()).compute()) # Print medium\n",
    "print(\"Score Max:\", (questions[\"Score\"].max()).compute()) # Print max\n",
    "print(\"Score Min:\", (questions[\"Score\"].min()).compute()) # Print min"
   ]
  },
  {
   "cell_type": "code",
   "execution_count": 6,
   "id": "3707f87a-41d6-49ba-9d50-23e7b3039dbe",
   "metadata": {},
   "outputs": [
    {
     "name": "stdout",
     "output_type": "stream",
     "text": [
      "Top 5 Tags by # of Questions:\n",
      " Tag\n",
      "javascript    1649631\n",
      "java          1563820\n",
      "php           1365600\n",
      "c#            1321027\n",
      "android       1288338\n",
      "Name: Id, dtype: int64\n",
      "CPU times: user 58.4 ms, sys: 18.3 ms, total: 76.8 ms\n",
      "Wall time: 13.3 s\n"
     ]
    }
   ],
   "source": [
    "%%time\n",
    "# Task 3: Get the top 5 tags that have the highest number of questions.\n",
    "\n",
    "# Group question_tags by tag, count and print 5 highest counts\n",
    "print(\"Top 5 Tags by # of Questions:\\n\", question_tags.groupby(\"Tag\")[\"Id\"].count().compute().nlargest(5))"
   ]
  },
  {
   "cell_type": "code",
   "execution_count": 7,
   "id": "ecc2dc12-f472-46df-a076-f7d10eff3350",
   "metadata": {},
   "outputs": [
    {
     "name": "stdout",
     "output_type": "stream",
     "text": [
      "0\n",
      "CPU times: user 223 ms, sys: 6.56 ms, total: 229 ms\n",
      "Wall time: 32.2 s\n"
     ]
    }
   ],
   "source": [
    "%%time\n",
    "# Task 4: Check if there are any dangling references to the question Id field from the questions table to question_tags table. \n",
    "# Return 1 if there are dangling references; return 0 otherwise.\n",
    "\n",
    "# Create left merge on id\n",
    "question_merge = question_tags.merge(questions, on='Id', how='left', indicator=True)\n",
    "\n",
    "# Print 1 if merge has rows with question_tags columns but not questions columns, 0 otherwise\n",
    "print(1 if (len(question_merge[question_merge['_merge'] == 'left_only']) > 0) else 0)"
   ]
  },
  {
   "cell_type": "code",
   "execution_count": 8,
   "id": "707364cd-4886-4daa-88cb-3714f8cadddc",
   "metadata": {},
   "outputs": [
    {
     "name": "stdout",
     "output_type": "stream",
     "text": [
      "Top 5 Owner Users by # of Questions:\n",
      "              AverageScore  NumQuestions  NumAnswers\n",
      "OwnerUserId                                        \n",
      "875317.0         1.198206          2230      3499.0\n",
      "39677.0          6.607613          2128      5176.0\n",
      "4653.0           6.883095          1822      5696.0\n",
      "34537.0          5.213690          1680      4525.0\n",
      "179736.0         7.344987          1516      3982.0\n",
      "CPU times: user 192 ms, sys: 217 ms, total: 409 ms\n",
      "Wall time: 15.2 s\n"
     ]
    }
   ],
   "source": [
    "%%time\n",
    "# Task 5: Create a new owner user table based on the questions table grouped by the OwnerUserId field.\n",
    "\n",
    "# Create new owner user table based on questions grouped by OwnerUserId\n",
    "question_owner_users = questions.groupby(\"OwnerUserId\").agg( # ID of the question’s owner user\n",
    "        AverageScore = (\"Score\", \"mean\"), # Average (mean) score across all questions posted by this user\n",
    "        NumQuestions = (\"Id\", \"count\"), # Number of questions (count) posted by this user\n",
    "        NumAnswers = (\"AnswerCount\", \"sum\") # Number of answers (sum) received by all the questions posted by this user\n",
    "    )\n",
    "\n",
    "# Print top 5 owner users who asked the most questions\n",
    "print(\"Top 5 Owner Users by # of Questions:\\n\", question_owner_users.compute().nlargest(5, columns=\"NumQuestions\"))"
   ]
  },
  {
   "cell_type": "code",
   "execution_count": 9,
   "id": "4ed288fa-c22b-4c38-a77c-b68785ddd8a3",
   "metadata": {},
   "outputs": [
    {
     "name": "stdout",
     "output_type": "stream",
     "text": [
      "Top 5 Tags by # of Questions:\n",
      "             AverageScore  NumAnswers  NumQuestions  NumOwners\n",
      "Tag                                                          \n",
      "javascript      1.134249   2252471.0       1649631    1296260\n",
      "java            1.056542   2194354.0       1563820    1189238\n",
      "php             0.375525   1855546.0       1365600    1017270\n",
      "c#              1.340325   1937822.0       1321027    1039994\n",
      "android         1.004450   1420669.0       1288338     936349\n",
      "Top 5 Tags by # of Answers:\n",
      "             AverageScore  NumAnswers  NumQuestions  NumOwners\n",
      "Tag                                                          \n",
      "javascript      1.134249   2252471.0       1649631    1296260\n",
      "java            1.056542   2194354.0       1563820    1189238\n",
      "c#              1.340325   1937822.0       1321027    1039994\n",
      "php             0.375525   1855546.0       1365600    1017270\n",
      "jquery          0.881797   1462029.0       1011324     801493\n",
      "CPU times: user 308 ms, sys: 35.5 ms, total: 343 ms\n",
      "Wall time: 1min 35s\n"
     ]
    }
   ],
   "source": [
    "%%time\n",
    "# Task 6: Create a new table by merging the questions table and the question_tags table using Id as the index. \n",
    "# Then group the new table by the Tag field, with aggregated fields similar to Task 5.\n",
    "\n",
    "# Merge questions and question_tags on Id\n",
    "question_merge = questions.merge(question_tags, on='Id')\n",
    "\n",
    "# Create new tags table based on merged table grouped by Tag\n",
    "question_tags_detail = question_merge.groupby(\"Tag\").agg( # ID of the question\n",
    "        AverageScore = (\"Score\", \"mean\"), # Average (mean) score across all questions marked with this tag\n",
    "        NumAnswers = (\"AnswerCount\", \"sum\"), # Number of answers (sum) received by all questions marked with this tag\n",
    "        NumQuestions = (\"Id\", \"count\"), # Number of questions (count) marked with this tag\n",
    "        NumOwners = (\"OwnerUserId\", \"count\") # Number of users (count) asking questions marked with this tag\n",
    "    )\n",
    "# Print top 5 tags with the highest number of questions\n",
    "print(\"Top 5 Tags by # of Questions:\\n\", question_tags_detail.compute().nlargest(5, columns=\"NumQuestions\"))\n",
    "\n",
    "# Print top 5 tags with the highest number of answers\n",
    "print(\"Top 5 Tags by # of Answers:\\n\", question_tags_detail.compute().nlargest(5, columns=\"NumAnswers\"))"
   ]
  },
  {
   "cell_type": "code",
   "execution_count": 10,
   "id": "d45b45a5-eaa7-4fa8-b1f2-231e938e43fc",
   "metadata": {},
   "outputs": [
    {
     "name": "stdout",
     "output_type": "stream",
     "text": [
      "Top 5 Owner Users by # of Questions:\n",
      "              AverageScore  NumQuestions  NumAnswers\n",
      "OwnerUserId                                        \n",
      "875317.0         1.198206          2230      3499.0\n",
      "39677.0          6.607613          2128      5176.0\n",
      "4653.0           6.883095          1822      5696.0\n",
      "34537.0          5.213690          1680      4525.0\n",
      "179736.0         7.344987          1516      3982.0\n",
      "CPU times: user 190 ms, sys: 177 ms, total: 367 ms\n",
      "Wall time: 29.1 s\n"
     ]
    }
   ],
   "source": [
    "%%time\n",
    "# Task 7: kill the third and fourth worker and repeat Task 5 with two workers.\n",
    "\n",
    "# Create new owner user table based on questions grouped by OwnerUserId\n",
    "question_owner_users = questions.groupby(\"OwnerUserId\").agg( # ID of the question’s owner user\n",
    "        AverageScore = (\"Score\", \"mean\"), # Average (mean) score across all questions posted by this user\n",
    "        NumQuestions = (\"Id\", \"count\"), # Number of questions (count) posted by this user\n",
    "        NumAnswers = (\"AnswerCount\", \"sum\") # Number of answers (sum) received by all the questions posted by this user\n",
    "    )\n",
    "\n",
    "# Print top 5 owner users who asked the most questions\n",
    "print(\"Top 5 Owner Users by # of Questions:\\n\", question_owner_users.compute().nlargest(5, columns=\"NumQuestions\"))"
   ]
  },
  {
   "cell_type": "markdown",
   "id": "75f8f0cb-66ba-4156-8ec4-e222f7cb568c",
   "metadata": {},
   "source": [
    "# Task 7 Report\n",
    "\n",
    "**As we can see from the time report, Task 7 takes about twice as long to accomplish as Task 5. This is to be expected, as Task 7 was executed using half as many Dask workers (2) as Task 5 was (4). With only half as many workers dividing the processing required for the task, the amount of work required for each worker doubles, and so naturally the time to complete the work doubles too.**"
   ]
  },
  {
   "cell_type": "code",
   "execution_count": 11,
   "id": "51817646-5154-4967-8f64-7b4d8fc32417",
   "metadata": {},
   "outputs": [
    {
     "name": "stdout",
     "output_type": "stream",
     "text": [
      "Top 5 Tags by # of Questions:\n",
      "             AverageScore  NumAnswers  NumQuestions  NumOwners\n",
      "Tag                                                          \n",
      "javascript      1.134249   2252471.0       1649631    1296260\n",
      "java            1.056542   2194354.0       1563820    1189238\n",
      "php             0.375525   1855546.0       1365600    1017270\n",
      "c#              1.340325   1937822.0       1321027    1039994\n",
      "android         1.004450   1420669.0       1288338     936349\n",
      "Top 5 Tags by # of Answers:\n",
      "             AverageScore  NumAnswers  NumQuestions  NumOwners\n",
      "Tag                                                          \n",
      "javascript      1.134249   2252471.0       1649631    1296260\n",
      "java            1.056542   2194354.0       1563820    1189238\n",
      "c#              1.340325   1937822.0       1321027    1039994\n",
      "php             0.375525   1855546.0       1365600    1017270\n",
      "jquery          0.881797   1462029.0       1011324     801493\n",
      "CPU times: user 314 ms, sys: 18.2 ms, total: 333 ms\n",
      "Wall time: 3min\n"
     ]
    }
   ],
   "source": [
    "%%time\n",
    "# Task 8: kill the third and fourth worker and repeat Task 6 with two workers.\n",
    "\n",
    "# Merge questions and question_tags on Id\n",
    "question_merge = questions.merge(question_tags, on='Id')\n",
    "\n",
    "# Create new tags table based on merged table grouped by Tag\n",
    "question_tags_detail = question_merge.groupby(\"Tag\").agg( # ID of the question\n",
    "        AverageScore = (\"Score\", \"mean\"), # Average (mean) score across all questions marked with this tag\n",
    "        NumAnswers = (\"AnswerCount\", \"sum\"), # Number of answers (sum) received by all questions marked with this tag\n",
    "        NumQuestions = (\"Id\", \"count\"), # Number of questions (count) marked with this tag\n",
    "        NumOwners = (\"OwnerUserId\", \"count\") # Number of users (count) asking questions marked with this tag\n",
    "    )\n",
    "# Print top 5 tags with the highest number of questions\n",
    "print(\"Top 5 Tags by # of Questions:\\n\", question_tags_detail.compute().nlargest(5, columns=\"NumQuestions\"))\n",
    "\n",
    "# Print top 5 tags with the highest number of answers\n",
    "print(\"Top 5 Tags by # of Answers:\\n\", question_tags_detail.compute().nlargest(5, columns=\"NumAnswers\"))"
   ]
  },
  {
   "cell_type": "markdown",
   "id": "cd2bb793-c320-466c-8d17-96cb552e3c7b",
   "metadata": {},
   "source": [
    "# Task 8 Report\n",
    "\n",
    "**As with Task 7 and Task 5, the time report indicates that Task 8 takes about twice as long to accomplish as Task 6, for the same reasons (only having half as many workers doubles the time).**"
   ]
  },
  {
   "cell_type": "code",
   "execution_count": null,
   "id": "5eaa8f2e-8403-4f46-a6c2-bbb882f0bddd",
   "metadata": {},
   "outputs": [],
   "source": []
  }
 ],
 "metadata": {
  "kernelspec": {
   "display_name": "Python 3 (ipykernel)",
   "language": "python",
   "name": "python3"
  },
  "language_info": {
   "codemirror_mode": {
    "name": "ipython",
    "version": 3
   },
   "file_extension": ".py",
   "mimetype": "text/x-python",
   "name": "python",
   "nbconvert_exporter": "python",
   "pygments_lexer": "ipython3",
   "version": "3.12.3"
  }
 },
 "nbformat": 4,
 "nbformat_minor": 5
}
