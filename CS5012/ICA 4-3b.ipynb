{
 "cells": [
  {
   "cell_type": "code",
   "execution_count": 2,
   "id": "f168fbe2-88d6-45ad-a4ad-9f31f5ff8d0a",
   "metadata": {},
   "outputs": [],
   "source": [
    "import binarytree"
   ]
  },
  {
   "cell_type": "code",
   "execution_count": 7,
   "id": "0d3d32ba-ce18-4d46-8a06-100d7e3da9c3",
   "metadata": {},
   "outputs": [
    {
     "name": "stdout",
     "output_type": "stream",
     "text": [
      "\n",
      "    ___3__\n",
      "   /      \\\n",
      "  1        6\n",
      " / \\      / \\\n",
      "2   11   9   5\n",
      "\n"
     ]
    }
   ],
   "source": [
    "root = binarytree.build([3, 1, 6, 2, 11, 9, 5])\n",
    "\n",
    "print(root)"
   ]
  },
  {
   "cell_type": "code",
   "execution_count": null,
   "id": "ff14aa9c-e98e-47f6-b185-42eee1604835",
   "metadata": {},
   "outputs": [],
   "source": []
  }
 ],
 "metadata": {
  "kernelspec": {
   "display_name": "Python 3 (ipykernel)",
   "language": "python",
   "name": "python3"
  },
  "language_info": {
   "codemirror_mode": {
    "name": "ipython",
    "version": 3
   },
   "file_extension": ".py",
   "mimetype": "text/x-python",
   "name": "python",
   "nbconvert_exporter": "python",
   "pygments_lexer": "ipython3",
   "version": "3.12.2"
  }
 },
 "nbformat": 4,
 "nbformat_minor": 5
}
