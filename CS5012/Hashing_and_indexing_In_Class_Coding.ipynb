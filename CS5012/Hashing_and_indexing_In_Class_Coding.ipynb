{
 "cells": [
  {
   "cell_type": "markdown",
   "metadata": {
    "id": "QuxIic64foOd"
   },
   "source": [
    "## **Majority Element**\n",
    "\n",
    "Given an array nums of size n, return the majority element.\n",
    "\n",
    "The majority element is the element that appears more than ⌊n / 2⌋ times. You may assume that the majority element always exists in the array.\n",
    "\n",
    "(Optional) Analyze the complexity of your algorithm and compare it with your classmates'\n",
    "\n",
    "Example 1:\n",
    "\n",
    "*   Input: nums = [3,2,3]\n",
    "*   Output: 3\n",
    "\n",
    "Example 2:\n",
    "\n",
    "*   Input: nums = [2,2,1,1,1,2,2]\n",
    "*   Output: 2\n"
   ]
  },
  {
   "cell_type": "code",
   "execution_count": 15,
   "metadata": {
    "id": "jYdW0TyOfqBO"
   },
   "outputs": [],
   "source": [
    "def majority(array):\n",
    "    element = {}\n",
    "    for i in array:\n",
    "        if i in element.keys():\n",
    "            element[i] += 1    \n",
    "        else:\n",
    "            element[i] = 1\n",
    "        if element[i] > len(array)/2:\n",
    "            return i"
   ]
  },
  {
   "cell_type": "code",
   "execution_count": 16,
   "metadata": {},
   "outputs": [
    {
     "name": "stdout",
     "output_type": "stream",
     "text": [
      "3\n",
      "2\n"
     ]
    }
   ],
   "source": [
    "print(majority([3,2,3]))\n",
    "print(majority([2,2,1,1,1,2,2]))"
   ]
  },
  {
   "cell_type": "markdown",
   "metadata": {
    "id": "1tAFWIwThqCj"
   },
   "source": [
    "## **Word Pattern**\n",
    "\n",
    "Given a pattern and a string s, find if s follows the same pattern.\n",
    "\n",
    "Here follow means a full match, such that there is a bijection between a letter in pattern and a non-empty word in s.\n",
    "\n",
    "(Optional) Analyze the complexity of your algorithm and compare it with your classmates'\n",
    "---\n",
    "\n",
    "**Example 1:**\n",
    "\n",
    "*   Input: pattern = \"abba\", s = \"dog cat cat dog\"\n",
    "*   Output: true\n",
    "\n",
    "Example 2:\n",
    "\n",
    "*   pattern = \"abba\", s = \"dog cat cat fish\"\n",
    "*   false\n",
    "\n",
    "Example 3:\n",
    "\n",
    "*   pattern = \"aaaa\", s = \"dog cat cat dog\"\n",
    "*   false"
   ]
  },
  {
   "cell_type": "code",
   "execution_count": 39,
   "metadata": {
    "colab": {
     "base_uri": "https://localhost:8080/"
    },
    "id": "VqC2BHEOhqPg",
    "outputId": "fba270c1-9f0f-4121-edf1-72ba97563e1e"
   },
   "outputs": [],
   "source": [
    "def pattern_match(pattern, s):\n",
    "    match = {}\n",
    "    slist = s.split(\" \")\n",
    "    ind = 0\n",
    "    for i in pattern:\n",
    "        if i in match.keys():\n",
    "            if match[i] != slist[ind]:\n",
    "                return False\n",
    "        else:\n",
    "            match[i] = slist[ind]\n",
    "        ind += 1\n",
    "    return True"
   ]
  },
  {
   "cell_type": "code",
   "execution_count": 42,
   "metadata": {},
   "outputs": [
    {
     "name": "stdout",
     "output_type": "stream",
     "text": [
      "True\n",
      "False\n",
      "False\n"
     ]
    }
   ],
   "source": [
    "print(pattern_match(\"abba\", \"dog cat cat dog\"))\n",
    "print(pattern_match(\"abba\", \"dog cat cat fish\"))\n",
    "print(pattern_match(\"aaaa\", \"dog cat cat dog\"))"
   ]
  },
  {
   "cell_type": "markdown",
   "metadata": {
    "id": "LOetDppKZHgG"
   },
   "source": [
    "## **Roman to Integer**\n",
    "\n",
    "Roman numerals are represented by seven different symbols: I, V, X, L, C, D and M.\n",
    "\n",
    "Symbol - Value: (I - 1), (V - 5), (X - 10), (L - 50), (C - 100), (D - 500), (M - 1000)\n",
    "\n",
    "For example, `2` is written as `II` in Roman numeral, just two ones added together. `12` is written as `XII`, which is simply `X + II`. The number `27` is written as `XXVII`, which is `XX + V + II`.\n",
    "\n",
    "Roman numerals are usually written largest to smallest from left to right.\n",
    "\n",
    "However, the numeral for `four` is not `IIII`. Instead, the number `four` is written as `IV`. Because the one is before the five we subtract it making `four`. The same principle applies to the number nine, which is written as `IX`. There are six instances where subtraction is used:\n",
    "\n",
    "`I` can be placed before `V (5)` and `X (10)` to make `4` and `9`.\n",
    "\n",
    "`X` can be placed before `L (50)` and `C (100)` to make `40` and `90`.\n",
    "\n",
    "`C` can be placed before `D (500)` and `M (1000)` to make `400` and `900`.\n",
    "\n",
    "Given a roman numeral, convert it to an integer.\n",
    "\n",
    "(Optional) Analyze the complexity of your algorithm and compare it with your classmates'\n",
    "\n",
    "---\n",
    "\n",
    "**Example 1:**\n",
    "\n",
    "*   Input: s = \"III\"\n",
    "*   Output: 3\n",
    "*   Explanation: III = 3.\n",
    "\n",
    "**Example 2:**\n",
    "\n",
    "*   Input: s = \"LVIII\"\n",
    "*   Output: 58\n",
    "*   Explanation: L = 50, V= 5, III = 3.\n",
    "\n",
    "**Example 3:**\n",
    "\n",
    "*   Input: s = \"MCMXCIV\"\n",
    "*   Output: 1994\n",
    "*   Explanation: M = 1000, CM = 900, XC = 90 and IV = 4.\n"
   ]
  },
  {
   "cell_type": "code",
   "execution_count": 56,
   "metadata": {},
   "outputs": [],
   "source": [
    "def roman(numeral):\n",
    "    symbol = {'I': 1, 'V': 5, 'X': 10, 'L': 50, 'C': 100, 'D': 500, 'M': 1000,\n",
    "             'IV': 4, 'IX': 9, 'XL': 40, 'XC': 90, 'CD': 400, 'CM': 900}\n",
    "    result = 0\n",
    "    i = 0\n",
    "    while i < len(numeral)-1:\n",
    "        if numeral[i] + numeral[i+1] in symbol.keys():\n",
    "            result += symbol[numeral[i] + numeral[i+1]]\n",
    "            i += 2\n",
    "        else:\n",
    "           result += symbol[numeral[i]]\n",
    "           i += 1\n",
    "    if i == len(numeral)-1:\n",
    "        result += symbol[numeral[i]]\n",
    "    return(result)"
   ]
  },
  {
   "cell_type": "code",
   "execution_count": 59,
   "metadata": {},
   "outputs": [
    {
     "name": "stdout",
     "output_type": "stream",
     "text": [
      "3\n",
      "58\n",
      "1994\n"
     ]
    }
   ],
   "source": [
    "print(roman('III'))\n",
    "print(roman('LVIII'))\n",
    "print(roman(\"MCMXCIV\"))"
   ]
  },
  {
   "cell_type": "code",
   "execution_count": null,
   "metadata": {},
   "outputs": [],
   "source": []
  }
 ],
 "metadata": {
  "colab": {
   "provenance": []
  },
  "kernelspec": {
   "display_name": "Python 3 (ipykernel)",
   "language": "python",
   "name": "python3"
  },
  "language_info": {
   "codemirror_mode": {
    "name": "ipython",
    "version": 3
   },
   "file_extension": ".py",
   "mimetype": "text/x-python",
   "name": "python",
   "nbconvert_exporter": "python",
   "pygments_lexer": "ipython3",
   "version": "3.12.2"
  }
 },
 "nbformat": 4,
 "nbformat_minor": 4
}
