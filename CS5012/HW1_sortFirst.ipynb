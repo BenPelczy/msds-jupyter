{
 "cells": [
  {
   "cell_type": "markdown",
   "metadata": {
    "id": "YgaqXBYJDx0D"
   },
   "source": [
    "#HW #1. Improve code Efficiency: Sort First!\n",
    "**Benton Pelczynski**\n",
    "\n",
    "## Scenario.\n",
    "\n",
    "In a two class, classification problem, it is common to use a classifier that outputs confidences (rather than simply class labels). A good example of this is a Support Vector Machine. A pro for using such a classifier is that you gain more information -- specifically the confidence in the classification result. A con is that in order to make a final classification decision, a threshold value must be determined. For example, if a threshold of 0.75 is chosen, the class label 1 would be assigned for confidences greater than 0.75 and for confidences less than 0.75 a class label of 0 would be assigned. However, this begs the question: how is the threshold chosen?\n",
    "\n",
    "Many data scientists will choose a threshold based on the experimental results and/or operational constraints. In this code example, we assume that we have confidences and true labels for a large data set. To determine a good threshold we will compute the true positive rates (TPRs) and false positive rates (FPRs) at all relevant thresholds. The relevant thresholds are considered those that would change the TPRs and FPRs.\n",
    "\n",
    "In the code below, a function is defined to compute the TPR and FPR at all relevant thresholds. However, the code is not very efficient and can be improved. (Note there are tips and hints found in the comments.)\n",
    "\n",
    "Your task is the following:\n",
    "\n",
    "## Question 1\n",
    "**40 POINTS**  \n",
    "Assess the time complexity of the method computeAllTPRs(...). Provide a line-by-line assessment in comments identifying the proportional number of steps (bounding notation is sufficient) per line: eg, O(1), O(log n), O(n), etc. Also, derive a time step function T(n) for the entire method (where n is the size of input true_label).\n",
    "\n",
    "## Question 2\n",
    "**30 POINTS**  \n",
    "Implement a new function computeAllTPRs_improved(...) which performs the same task as computeAllTPRs but has a significantly reduced time complexity. Also provide a line-by-line assessment in comments identifying the proportional number of steps per line, and derive a time step function T(n) for the entire method (where n is the size of input true_label).\n",
    "\n",
    "## Question 3\n",
    "**30 POINTS**  \n",
    "Compare the theoretical time complexities of both methods and predict which is more efficient. Next, test your prediction by timing both methods on sample inputs of varying sizes. Create a plot of inputSize vs runtime (as done in similar class examples).  \n",
    "\n",
    "**NOTE: Do not include runtimes for graphing**\n",
    "\n",
    "**TOTAL POINTS: 100**\n",
    "\n",
    "---"
   ]
  },
  {
   "cell_type": "code",
   "execution_count": 51,
   "metadata": {
    "id": "tQs8b3ccEskN"
   },
   "outputs": [],
   "source": [
    "import matplotlib.pyplot as plt\n",
    "import random\n",
    "from copy import deepcopy\n",
    "from numpy import argmax"
   ]
  },
  {
   "cell_type": "markdown",
   "metadata": {
    "id": "l4t6Gd-XNWdr"
   },
   "source": [
    "Answer Question #1 in the comments of the code chunk below."
   ]
  },
  {
   "cell_type": "code",
   "execution_count": 41,
   "metadata": {
    "id": "IFu90tkjEORa"
   },
   "outputs": [],
   "source": [
    "def computeAllTPRs(true_label, confs):\n",
    "        '''\n",
    "\n",
    "        inputs:\n",
    "         - true_label: list of labels, assumed to be 0 or 1 (a two class problem)\n",
    "         - confs: list of confidences\n",
    "\n",
    "        This method computes the True Positive Rate (TPRs) and FPRs for all relevant\n",
    "        thresholds given true_label and confs. Relevant thresholds are considered\n",
    "        all different values found in confs.\n",
    "        '''\n",
    "\n",
    "        # Define / initialize  variables: All O(1).\n",
    "        sentinelValue = -1 # used to replace max value found thus far\n",
    "        totalPositives = sum(true_label)\n",
    "        totalNegatives = len(true_label) - totalPositives\n",
    "        truePositives = 0\n",
    "        falsePositives = 0\n",
    "        # Hint: Consider Memory Management\n",
    "        truePositiveRate = []\n",
    "        falsePositiveRate = []\n",
    "\n",
    "        #Hint: Although not explicitly clear, the loop structure below is an\n",
    "            #embeded loop ie, O(n^2) ... do you see why??\n",
    "        #Hint: If you sort the confidences first you can improve the iteration scheme.\n",
    "\n",
    "        # Iterate over all relevant thresholds. Compute TPR and FPR for each and\n",
    "        # append to truePositiveRate , falsePositiveRate lists.\n",
    "\n",
    "        for i in range(len(confs)): # O(n) iterations\n",
    "          maxVal = max(confs) # max must check every element, so its runtime is O(n)  \n",
    "          argMax = argmax(confs) # argmax also iterates through confs, so its runtime is O(n)\n",
    "          confs[argMax] = sentinelValue # O(1) runtime  \n",
    "          if true_label[argMax]==1:  # O(1) runtime  \n",
    "            truePositives += 1 # O(1) runtime  \n",
    "          else:\n",
    "            falsePositives += 1 # O(1) runtime  \n",
    "\n",
    "          truePositiveRate.append(truePositives/totalPositives) #append's runtime is O(1) amortized\n",
    "          falsePositiveRate.append(falsePositives/totalNegatives) #append's runtime is O(1) amortized\n",
    "        \n",
    "        # print statements added by myself to compare to and confirm accuracy of improved function\n",
    "        #print(truePositiveRate) \n",
    "        #print(falsePositiveRate)\n",
    "\n",
    "# T(n) = 7O(1) + O(n)(2O(n) + 5O(1)) = 2O(n^2) + 5O(n) + 7O(1) ~ O(n^2)\n"
   ]
  },
  {
   "cell_type": "code",
   "execution_count": 37,
   "metadata": {
    "id": "6RBVDmTOeysa"
   },
   "outputs": [],
   "source": [
    "def testComputeAllTPRs(numSamples):\n",
    "\n",
    "  confList = []\n",
    "  labels = []\n",
    "  maxVal = 10000\n",
    "  random.seed(121) #set seed added by myself for reproducability\n",
    "  for i in range(0,numSamples):\n",
    "    n = random.randint(1,maxVal)\n",
    "    confList.append(n/maxVal)\n",
    "    if n/maxVal > .5:\n",
    "      lab = 1\n",
    "    else:\n",
    "      lab = 0\n",
    "    labels.append(lab)\n",
    "  computeAllTPRs(labels, deepcopy(confList))  # Why a deepcopy here?"
   ]
  },
  {
   "cell_type": "markdown",
   "metadata": {
    "id": "J0aNsuFFMzLt"
   },
   "source": [
    "Below, provide your implementation for Question #2."
   ]
  },
  {
   "cell_type": "code",
   "execution_count": 42,
   "metadata": {
    "id": "I4SoYMYBMyzA"
   },
   "outputs": [],
   "source": [
    "def TPR_merge_sort(true_label, confs):\n",
    "    '''\n",
    "    inputs:\n",
    "    - true_label: list of labels to be sorted to match sorted confs\n",
    "    - confs: list of confidences to be sorted\n",
    "\n",
    "    Modified version of merge_sort for the function computeAllTPRs_improved,\n",
    "    to sort confs and corresponding true_label.\n",
    "    '''\n",
    "    if len(confs) <= 1: # O(1) runtime\n",
    "        return (true_label, confs) # O(1) runtime\n",
    "    mid = len(confs) // 2 # O(1) runtime\n",
    "    true_label_left, confs_left = TPR_merge_sort(true_label[:mid], confs[:mid]) \n",
    "    # As TPR_merge_sort is recursively called with list parameters of size n/2, this recursive call will occur O(logn) times\n",
    "    true_label_right, confs_right = TPR_merge_sort(true_label[mid:], confs[mid:]) # O(logn); see above\n",
    "    return TPR_merge(true_label_left, confs_left, true_label_right, confs_right) # merge sort's runtime is O(n);\n",
    "                                                                                 # see TPR_merge function for stepwise assessment\n",
    "\n",
    "    # T(n) = 2O(logn)(3O(1) + O(n)) = 2O(nlogn) + 6O(logn) ~ O(nlogn)\n",
    "\n",
    "def TPR_merge(true_label_left, confs_left, true_label_right, confs_right):\n",
    "    '''\n",
    "    inputs:\n",
    "    - true_label_left: list of labels to be merged alongside confs\n",
    "    - confs_left: list of confidences to be merged\n",
    "    - true_label_right: list of labels to be merged alongside confs\n",
    "    - confs_right: list of confidences to be merged\n",
    "\n",
    "    Modified version of merge for the function computeAllTPRs_improved,\n",
    "    to sort confs and corresponding true_label.\n",
    "    '''\n",
    "    # All initializations have O(1) runtime\n",
    "    sorted_true_label = []\n",
    "    sorted_confs = []\n",
    "    i = j = 0\n",
    "    \n",
    "    while i < len(confs_left) and j < len(confs_right): # O(n) iterations (number of elements in confs_left + confs_right)\n",
    "        if confs_left[i] >= confs_right[j]: # O(1) runtime\n",
    "            sorted_true_label.append(true_label_left[i]) # append's runtime is O(1) amortized\n",
    "            sorted_confs.append(confs_left[i]) # append's runtime is O(1) amortized\n",
    "            i += 1 # O(1) runtime\n",
    "        else:\n",
    "            sorted_true_label.append(true_label_right[j]) # append's runtime is O(1) amortized\n",
    "            sorted_confs.append(confs_right[j]) # append's runtime is O(1) amortized\n",
    "            j += 1 # O(1) runtime\n",
    "\n",
    "    sorted_true_label.extend(true_label_left[i:]) # O(n) runtime in the worst case (adding all n elements to sorted list)\n",
    "    sorted_confs.extend(confs_left[i:]) # O(n) runtime in the worst case (adding all n elements to sorted list)\n",
    "    sorted_true_label.extend(true_label_right[j:]) # O(n) runtime in the worst case (adding all n elements to sorted list)\n",
    "    sorted_confs.extend(confs_right[j:]) # O(n) runtime in the worst case (adding all n elements to sorted list)\n",
    "\n",
    "    return (sorted_true_label, sorted_confs) # O(1) runtime\n",
    "\n",
    "    # T(n) = 3O(1) + O(n)(4O(1)) + 4O(n) + O(1) = 8O(n) + 4O(1) ~ O(n)\n",
    "\n",
    "def computeAllTPRs_improved(true_label, confs):\n",
    "    '''\n",
    "    inputs:\n",
    "    - true_label: list of labels, assumed to be 0 or 1 (a two class problem)\n",
    "    - confs: list of confidences\n",
    "\n",
    "    This method computes the True Positive Rate (TPRs) and FPRs for all relevant\n",
    "    thresholds given true_label and confs. Relevant thresholds are considered\n",
    "    all different values found in confs.\n",
    "    '''\n",
    "    # Define / initialize  variables: All O(1).\n",
    "    totalPositives = sum(true_label)\n",
    "    totalNegatives = len(true_label) - totalPositives\n",
    "    truePositives = 0\n",
    "    falsePositives = 0\n",
    "    truePositiveRate = []\n",
    "    falsePositiveRate = []\n",
    "\n",
    "    true_label, confs = TPR_merge_sort(true_label, confs) # merge sort's runtime is O(nlogn);\n",
    "                                                          # see TPR_merge_sort function for stepwise assessment\n",
    "    \n",
    "    for i in range(len(confs)): # O(n) iterations\n",
    "        if true_label[i]==1:  # O(1) runtime  \n",
    "            truePositives += 1 # O(1) runtime  \n",
    "        else:\n",
    "            falsePositives += 1 # O(1) runtime  \n",
    "\n",
    "        truePositiveRate.append(truePositives/totalPositives) # append's runtime is O(1) amortized\n",
    "        falsePositiveRate.append(falsePositives/totalNegatives) # append's runtime is O(1) amortized\n",
    "    #print(truePositiveRate)\n",
    "    #print(falsePositiveRate)\n",
    "\n",
    "    # T(n) = 6O(1) + O(nlogn) + O(n)(4O(1)) = O(nlogn) + 4O(n) + 6O(1) ~ O(nlogn)\n",
    "        \n",
    "        "
   ]
  },
  {
   "cell_type": "code",
   "execution_count": 39,
   "metadata": {},
   "outputs": [],
   "source": [
    "def testComputeAllTPRs_improved(numSamples):\n",
    "\n",
    "  confList = []\n",
    "  labels = []\n",
    "  maxVal = 10000\n",
    "  random.seed(121)\n",
    "  for i in range(0,numSamples):\n",
    "    n = random.randint(1,maxVal)\n",
    "    confList.append(n/maxVal)\n",
    "    if n/maxVal > .5:\n",
    "      lab = 1\n",
    "    else:\n",
    "      lab = 0\n",
    "    labels.append(lab)\n",
    "  computeAllTPRs_improved(labels, deepcopy(confList))"
   ]
  },
  {
   "cell_type": "markdown",
   "metadata": {
    "id": "lP72j3GqM6AH"
   },
   "source": [
    "Question #3. Below, provide your code which records and plots the runtime for the original and improved methods."
   ]
  },
  {
   "cell_type": "code",
   "execution_count": 70,
   "metadata": {
    "id": "PAWM8pogeysb"
   },
   "outputs": [
    {
     "name": "stderr",
     "output_type": "stream",
     "text": [
      "/var/folders/ds/qp3gbx7n3tz0738b8w4wxs580000gn/T/ipykernel_84832/3094656519.py:16: FutureWarning: The behavior of DataFrame concatenation with empty or all-NA entries is deprecated. In a future version, this will no longer exclude empty or all-NA columns when determining the result dtypes. To retain the old behavior, exclude the relevant entries before the concat operation.\n",
      "  TPR_time = TPR_time._append({'i': 100*i, 'time': end1 - start1, 'improved_time': end2 - start2}, ignore_index=True)\n"
     ]
    },
    {
     "data": {
      "image/png": "[encoded data removed]",
      "text/plain": [
       "<Figure size 640x480 with 1 Axes>"
      ]
     },
     "metadata": {},
     "output_type": "display_data"
    }
   ],
   "source": [
    "# O(n^2) > O(nlogn), so the improved algorithm should be more efficient.\n",
    "import time\n",
    "import pandas as pd\n",
    "TPR_time = pd.DataFrame(columns=['i', 'time', 'improved_time'])\n",
    "\n",
    "for i in range(2,101,2):\n",
    "    numSamples = 100*i\n",
    "    \n",
    "    start1 = time.time()\n",
    "    testComputeAllTPRs(numSamples)\n",
    "    end1 = time.time()\n",
    "    \n",
    "    start2 = time.time()\n",
    "    testComputeAllTPRs_improved(numSamples)\n",
    "    end2 = time.time()\n",
    "    TPR_time = TPR_time._append({'i': 100*i, 'time': end1 - start1, 'improved_time': end2 - start2}, ignore_index=True)\n",
    "    \n",
    "plt.plot(TPR_time.i, TPR_time.time, label='computeAllTPRs')\n",
    "plt.plot(TPR_time.i, TPR_time.improved_time, label='computeAllTPRs_improved')\n",
    "plt.legend()\n",
    "plt.ylabel('Runtime (in seconds)')\n",
    "plt.xlabel('Input Size')\n",
    "plt.show() "
   ]
  },
  {
   "cell_type": "code",
   "execution_count": null,
   "metadata": {},
   "outputs": [],
   "source": []
  }
 ],
 "metadata": {
  "colab": {
   "provenance": []
  },
  "kernelspec": {
   "display_name": "Python 3 (ipykernel)",
   "language": "python",
   "name": "python3"
  },
  "language_info": {
   "codemirror_mode": {
    "name": "ipython",
    "version": 3
   },
   "file_extension": ".py",
   "mimetype": "text/x-python",
   "name": "python",
   "nbconvert_exporter": "python",
   "pygments_lexer": "ipython3",
   "version": "3.12.2"
  }
 },
 "nbformat": 4,
 "nbformat_minor": 4
}
