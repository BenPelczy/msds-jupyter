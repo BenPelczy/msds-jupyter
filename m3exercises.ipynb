{
 "cells": [
  {
   "cell_type": "code",
   "execution_count": 7,
   "id": "1c285853-1275-4ee9-b79e-c7c1bf9602f3",
   "metadata": {},
   "outputs": [
    {
     "name": "stdout",
     "output_type": "stream",
     "text": [
      "bucket 3\n"
     ]
    }
   ],
   "source": [
    "val = -2\n",
    "\n",
    "if -10 < val < -5:\n",
    "    print(\"bucket 1\")\n",
    "elif -5 <= val < -2:\n",
    "    print(\"bucket 2\")\n",
    "elif val == -2:\n",
    "    print(\"bucket 3\")"
   ]
  },
  {
   "cell_type": "code",
   "execution_count": 8,
   "id": "fd30836b-6291-4265-b322-578a6338b24f",
   "metadata": {},
   "outputs": [
    {
     "name": "stdout",
     "output_type": "stream",
     "text": [
      "bucket 4\n"
     ]
    }
   ],
   "source": [
    "val = 5\n",
    "\n",
    "if -10 < val < -5:\n",
    "    print(\"bucket 1\")\n",
    "elif -5 <= val < -2:\n",
    "    print(\"bucket 2\")\n",
    "elif val == -2:\n",
    "    print(\"bucket 3\")\n",
    "else:\n",
    "    print(\"bucket 4\")"
   ]
  },
  {
   "cell_type": "code",
   "execution_count": 10,
   "id": "abd3ac94-6e5c-47a7-89a0-41d34492cee5",
   "metadata": {},
   "outputs": [
    {
     "name": "stdout",
     "output_type": "stream",
     "text": [
      "-2\n",
      "max_val\n",
      "0\n",
      "5\n",
      "6\n"
     ]
    }
   ],
   "source": [
    "xx = [-2, 8, 0, 5, 6]\n",
    "max_val = max(xx)\n",
    "for i in xx:\n",
    "    if i < max_val:\n",
    "        print(i)\n",
    "    else:\n",
    "        print(\"max_val\")"
   ]
  },
  {
   "cell_type": "code",
   "execution_count": 11,
   "id": "1ff20cbe-b5d2-42ae-a3b5-fcaa33a2c105",
   "metadata": {},
   "outputs": [
    {
     "name": "stdout",
     "output_type": "stream",
     "text": [
      "0\n",
      "10\n",
      "20\n",
      "30\n",
      "40\n",
      "50\n",
      "60\n",
      "70\n",
      "80\n",
      "90\n"
     ]
    }
   ],
   "source": [
    "it = 0\n",
    "max_iter = 100\n",
    "while it < max_iter:\n",
    "    if it % 10 == 0:\n",
    "        print(it)\n",
    "    it += 1"
   ]
  },
  {
   "cell_type": "code",
   "execution_count": 14,
   "id": "689f5c66-5117-4d32-b288-f53f32aa2852",
   "metadata": {},
   "outputs": [
    {
     "name": "stdout",
     "output_type": "stream",
     "text": [
      "ben\n",
      "bart\n",
      "bert\n",
      "bort\n"
     ]
    }
   ],
   "source": [
    "names = [\"Ben\", \"Bart\", \"Bert\", \"Bort\"]\n",
    "for name in names:\n",
    "    print(name.lower())"
   ]
  },
  {
   "cell_type": "code",
   "execution_count": 19,
   "id": "36f4fef1-89ca-45f5-97fe-5955b74f11a8",
   "metadata": {},
   "outputs": [
    {
     "name": "stdout",
     "output_type": "stream",
     "text": [
      "Ben\n",
      "Bart\n",
      "Bert\n",
      "Bort\n"
     ]
    }
   ],
   "source": [
    "itname = iter(names)\n",
    "_ = [print(next(itname)) for i in range(len(names))]"
   ]
  },
  {
   "cell_type": "code",
   "execution_count": 22,
   "id": "82083fc3-d84b-4daa-a58a-87dc305d668e",
   "metadata": {},
   "outputs": [
    {
     "name": "stdout",
     "output_type": "stream",
     "text": [
      "Davidson 28036\n",
      "Chantilly 20151\n"
     ]
    }
   ],
   "source": [
    "cityz = {\"Davidson\": 28036, \"Chantilly\": 20151}\n",
    "for k, v in cityz.items():\n",
    "    print(k, v)"
   ]
  },
  {
   "cell_type": "code",
   "execution_count": 23,
   "id": "019c4c83-a5c5-4eea-a3d4-0365e8835b5a",
   "metadata": {},
   "outputs": [
    {
     "name": "stdout",
     "output_type": "stream",
     "text": [
      "Davidson 28036\n",
      "Chantilly 20151\n"
     ]
    }
   ],
   "source": [
    "for k in cityz.keys():\n",
    "    print(k, cityz[k]) "
   ]
  },
  {
   "cell_type": "code",
   "execution_count": 28,
   "id": "37c3c45a-d0e7-4988-ba75-48fb0077088a",
   "metadata": {},
   "outputs": [
    {
     "data": {
      "text/plain": [
       "[8, 27, 125, 512, 2197]"
      ]
     },
     "execution_count": 28,
     "metadata": {},
     "output_type": "execute_result"
    }
   ],
   "source": [
    "numls = [2, 3, 5, 8, 13]\n",
    "cube = [(num**3) for num in numls]\n",
    "cube"
   ]
  },
  {
   "cell_type": "code",
   "execution_count": 31,
   "id": "3fce7c36-4c43-45e1-bb07-8473123401a9",
   "metadata": {},
   "outputs": [
    {
     "data": {
      "text/plain": [
       "['13', '7', '2']"
      ]
     },
     "execution_count": 31,
     "metadata": {},
     "output_type": "execute_result"
    }
   ],
   "source": [
    "sevls = [\"Ben\", \"13\", \"7\", \"Seven\", \"Bort\", \"2\", \"END\"]\n",
    "sevnum = [x for x in sevls if x.isdigit()]\n",
    "sevnum"
   ]
  },
  {
   "cell_type": "code",
   "execution_count": 34,
   "id": "e35f97bc-a7f7-46de-86ac-d0723b214433",
   "metadata": {},
   "outputs": [
    {
     "data": {
      "text/plain": [
       "{'maxdepth': [5, 10], 'maxiter': [10, 20]}"
      ]
     },
     "execution_count": 34,
     "metadata": {},
     "output_type": "execute_result"
    }
   ],
   "source": [
    "grid = {\"maxdepth\": [5, 10], \"trees\": [100, 200, 300], \"reg\": [11, 12], \"maxiter\": [10,20]}\n",
    "gridmax = {key: grid[key] for key in grid.keys() if \"max\" in key}\n",
    "gridmax"
   ]
  },
  {
   "cell_type": "code",
   "execution_count": null,
   "id": "8ef7dd7e-bca2-424a-bd37-63f4bb988207",
   "metadata": {},
   "outputs": [],
   "source": []
  }
 ],
 "metadata": {
  "kernelspec": {
   "display_name": "Python 3 (ipykernel)",
   "language": "python",
   "name": "python3"
  },
  "language_info": {
   "codemirror_mode": {
    "name": "ipython",
    "version": 3
   },
   "file_extension": ".py",
   "mimetype": "text/x-python",
   "name": "python",
   "nbconvert_exporter": "python",
   "pygments_lexer": "ipython3",
   "version": "3.12.2"
  }
 },
 "nbformat": 4,
 "nbformat_minor": 5
}
