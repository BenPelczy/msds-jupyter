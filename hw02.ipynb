{
 "cells": [
  {
   "cell_type": "markdown",
   "id": "1feeff6b-890c-43cd-973b-24d249e22ae9",
   "metadata": {},
   "source": [
    "# Metadata\n",
    "\n",
    "```yaml\n",
    "Course:   DS 5100\n",
    "Term:     Fall 2023 Online\n",
    "Module:   M02 Homework\n",
    "Author:   R.C. Alvarado\n",
    "Date:     19 August 2023\n",
    "```"
   ]
  },
  {
   "cell_type": "markdown",
   "id": "53aac216-aef9-4c05-b140-33e90f0c82fe",
   "metadata": {},
   "source": [
    "# Student Info\n",
    "\n",
    "* Name: Benton Pelczynski\n",
    "* Net ID: mdg7wj\n",
    "* URL of this file in GitHub: https://github.com/BenPelczy/DS5100-mdg7wj/blob/main/lessons/M02/hw02.ipynb"
   ]
  },
  {
   "cell_type": "markdown",
   "id": "fa67a8d7-238d-418a-a661-7599984aa61c",
   "metadata": {},
   "source": [
    "# Instructions\n",
    "\n",
    "In your **private course repo on Rivanna**, write a Jupyter notebook running Python that performs the numbered tasks below. For each task, create a code block to perform the task.\n",
    "\n",
    "Save your notebook in the `M02` directory as `hw02.ipynb`. \n",
    "\n",
    "Add and commit these files to your repo. \n",
    "\n",
    "Then push your commits to your repo on GitHib.\n",
    "\n",
    "Be sure to fill out the **Student Info** block above.\n",
    "\n",
    "To submit your homework, save the notebook as a PDF and upload it to GradeScope, following the instructions.\n",
    "\n",
    "**10 Points**"
   ]
  },
  {
   "cell_type": "markdown",
   "id": "b0433b76-ff19-4a54-a32b-477fad968e7a",
   "metadata": {},
   "source": [
    "# Data\n",
    "\n",
    "```\n",
    "Table 1: GRADES\n",
    "\n",
    "name    grade\n",
    "Jon     95\n",
    "Mike    84\n",
    "Jaime   99\n",
    "\n",
    "\n",
    "Table 2: TOUCHDOWNS\n",
    "\n",
    "name    touchdowns\n",
    "Alex    2\n",
    "Patrick 4\n",
    "Tom     1\n",
    "Joe     3\n",
    "Alex    1\n",
    "```"
   ]
  },
  {
   "cell_type": "markdown",
   "id": "1ce76600-6714-4459-8888-e3c8af9a0e77",
   "metadata": {},
   "source": [
    "# Tasks"
   ]
  },
  {
   "cell_type": "markdown",
   "id": "7fc0eb5e-f85c-4e05-8c34-051fd3f41aba",
   "metadata": {},
   "source": [
    "## Task 1\n",
    "\n",
    "Using the data in Table 1, create a dictionary called `gradebook` where the keys contain the names and the values are the associated grades. Print the dictionary.  (1 PT) "
   ]
  },
  {
   "cell_type": "code",
   "execution_count": 4,
   "id": "d27137b7-5332-4a77-baec-32da74808ceb",
   "metadata": {
    "tags": []
   },
   "outputs": [
    {
     "name": "stdout",
     "output_type": "stream",
     "text": [
      "{'Jon': 99, 'Mike': 84, 'Jaime': 99}\n"
     ]
    }
   ],
   "source": [
    "gradebook = {\"Jon\": 99, \"Mike\": 84, \"Jaime\": 99}\n",
    "print(gradebook)"
   ]
  },
  {
   "cell_type": "markdown",
   "id": "ab81462d-3ac6-45ce-9b20-8d61ac6f91f6",
   "metadata": {},
   "source": [
    "## Task 2 \n",
    "\n",
    "Index into the gradebook to print Mike's grade. Do NOT use the `get()` method for this. (1 PT) "
   ]
  },
  {
   "cell_type": "code",
   "execution_count": 38,
   "id": "f34ec6af-b6db-4922-9727-e8672a580e61",
   "metadata": {
    "tags": []
   },
   "outputs": [
    {
     "data": {
      "text/plain": [
       "84"
      ]
     },
     "execution_count": 38,
     "metadata": {},
     "output_type": "execute_result"
    }
   ],
   "source": [
    "gradebook[\"Mike\"]"
   ]
  },
  {
   "cell_type": "markdown",
   "id": "03ac6440-7622-481b-b54c-ccef8822ee36",
   "metadata": {},
   "source": [
    "## Task 3\n",
    "\n",
    "Attempt to index into gradebook to print Jeff's grade. Show the result. Do NOT use the `get()` method for this. (1 PT) "
   ]
  },
  {
   "cell_type": "code",
   "execution_count": 39,
   "id": "ace3b4dc-e093-44d9-88cc-2ffad835ca01",
   "metadata": {
    "tags": []
   },
   "outputs": [
    {
     "ename": "KeyError",
     "evalue": "'Jeff'",
     "output_type": "error",
     "traceback": [
      "\u001b[0;31m---------------------------------------------------------------------------\u001b[0m",
      "\u001b[0;31mKeyError\u001b[0m                                  Traceback (most recent call last)",
      "Cell \u001b[0;32mIn[39], line 1\u001b[0m\n\u001b[0;32m----> 1\u001b[0m \u001b[43mgradebook\u001b[49m\u001b[43m[\u001b[49m\u001b[38;5;124;43m\"\u001b[39;49m\u001b[38;5;124;43mJeff\u001b[39;49m\u001b[38;5;124;43m\"\u001b[39;49m\u001b[43m]\u001b[49m\n",
      "\u001b[0;31mKeyError\u001b[0m: 'Jeff'"
     ]
    }
   ],
   "source": [
    "gradebook[\"Jeff\"]"
   ]
  },
  {
   "cell_type": "markdown",
   "id": "da8bda01-8bc1-4406-9102-9008820b1038",
   "metadata": {},
   "source": [
    "## Task 4\n",
    "\n",
    "Using Table 2, build a list from the names called `names` and print it. (1 PT) "
   ]
  },
  {
   "cell_type": "code",
   "execution_count": 17,
   "id": "138989d0-623e-4d83-b96b-b4f3a66cb7cf",
   "metadata": {
    "tags": []
   },
   "outputs": [
    {
     "name": "stdout",
     "output_type": "stream",
     "text": [
      "['Alex', 'Patrick', 'Tom', 'Joe', 'Alex']\n"
     ]
    }
   ],
   "source": [
    "names = [\"Alex\", \"Patrick\", \"Tom\", \"Joe\", \"Alex\"]\n",
    "print(names)"
   ]
  },
  {
   "cell_type": "markdown",
   "id": "7efdb206-a4f5-40b1-b222-25b38e594a27",
   "metadata": {},
   "source": [
    "## Task 5\n",
    "\n",
    "Sort the list in ascending order and print it. (1 PT) "
   ]
  },
  {
   "cell_type": "code",
   "execution_count": 19,
   "id": "62be5a7e-f415-4f2f-a4b8-818f09c7d579",
   "metadata": {
    "tags": []
   },
   "outputs": [
    {
     "name": "stdout",
     "output_type": "stream",
     "text": [
      "['Alex', 'Alex', 'Joe', 'Patrick', 'Tom']\n"
     ]
    }
   ],
   "source": [
    "names.sort()\n",
    "print(names)"
   ]
  },
  {
   "cell_type": "markdown",
   "id": "61d6f5bb-69c9-4e3e-abd2-f73966e6be69",
   "metadata": {},
   "source": [
    "## Task 6 \n",
    "\n",
    "Build a set from the names in Table 2 and print it. (1 PT) "
   ]
  },
  {
   "cell_type": "code",
   "execution_count": 40,
   "id": "756dd41b-053f-46bf-a31c-5c19bd1ac4af",
   "metadata": {
    "tags": []
   },
   "outputs": [
    {
     "name": "stdout",
     "output_type": "stream",
     "text": [
      "{'Alex', 'Patrick', 'Joe', 'Tom'}\n"
     ]
    }
   ],
   "source": [
    "namesset = set(names)\n",
    "print(namesset)"
   ]
  },
  {
   "cell_type": "markdown",
   "id": "75dc06d2-7337-480e-947a-ac5ab655fea3",
   "metadata": {},
   "source": [
    "## Task 7\n",
    "\n",
    "Build a dictionary from the touchdowns data, calling it `td`, and print it. Use lists to store the values. Remember that dictionary keys must be unique. (1 PT) "
   ]
  },
  {
   "cell_type": "code",
   "execution_count": 22,
   "id": "324b1c89-495c-402f-8ae8-798557a16904",
   "metadata": {
    "tags": []
   },
   "outputs": [
    {
     "name": "stdout",
     "output_type": "stream",
     "text": [
      "{'Alex': [2, 1], 'Patrick': [4], 'Tom': [1], 'Joe': [3]}\n"
     ]
    }
   ],
   "source": [
    "td = {\"Alex\": [2, 1], \"Patrick\": [4], \"Tom\": [1], \"Joe\": [3]}\n",
    "print(td)"
   ]
  },
  {
   "cell_type": "markdown",
   "id": "b543eb43-0a32-47d6-a375-bec38f5b0147",
   "metadata": {},
   "source": [
    "## Task 8\n",
    "\n",
    "Compute the sum of Alex's touchdowns using the appropriate built-in function. (1 PT)"
   ]
  },
  {
   "cell_type": "code",
   "execution_count": 37,
   "id": "fb7569e1-1ada-42b3-85d0-98d3a04fd012",
   "metadata": {
    "tags": []
   },
   "outputs": [
    {
     "data": {
      "text/plain": [
       "3"
      ]
     },
     "execution_count": 37,
     "metadata": {},
     "output_type": "execute_result"
    }
   ],
   "source": [
    "sum(td[\"Alex\"])"
   ]
  },
  {
   "cell_type": "markdown",
   "id": "3ea618be-b3f6-426d-adaa-71b840292639",
   "metadata": {},
   "source": [
    "## Task 9\n",
    "\n",
    "Get the keys from `td` and save them as a sorted list `list1`. Then get a set from `names` and save them as a sorted list called `list2`. Compare them with a boolean operator to see if they are equal. (2 PTS)"
   ]
  },
  {
   "cell_type": "code",
   "execution_count": 36,
   "id": "afa55dc7-ef55-4000-8551-d57cf7d5f99b",
   "metadata": {
    "tags": []
   },
   "outputs": [
    {
     "name": "stdout",
     "output_type": "stream",
     "text": [
      "['Alex', 'Joe', 'Patrick', 'Tom']\n",
      "['Alex', 'Joe', 'Patrick', 'Tom']\n"
     ]
    },
    {
     "data": {
      "text/plain": [
       "True"
      ]
     },
     "execution_count": 36,
     "metadata": {},
     "output_type": "execute_result"
    }
   ],
   "source": [
    "list1 = list(td.keys())\n",
    "list1.sort()\n",
    "print(list1)\n",
    "list2 = list(namesset)\n",
    "list2.sort()\n",
    "print(list2)\n",
    "list1 == list2"
   ]
  },
  {
   "cell_type": "code",
   "execution_count": null,
   "id": "da27733a-f518-427f-b245-e92fc8cae2f5",
   "metadata": {},
   "outputs": [],
   "source": []
  }
 ],
 "metadata": {
  "kernelspec": {
   "display_name": "Python 3 (ipykernel)",
   "language": "python",
   "name": "python3"
  },
  "language_info": {
   "codemirror_mode": {
    "name": "ipython",
    "version": 3
   },
   "file_extension": ".py",
   "mimetype": "text/x-python",
   "name": "python",
   "nbconvert_exporter": "python",
   "pygments_lexer": "ipython3",
   "version": "3.12.2"
  }
 },
 "nbformat": 4,
 "nbformat_minor": 5
}
