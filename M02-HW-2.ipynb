{
 "cells": [
  {
   "cell_type": "code",
   "execution_count": null,
   "id": "de7fdcef-8b88-491a-ba13-17d7bfd3f48e",
   "metadata": {
    "tags": []
   },
   "outputs": [],
   "source": [
    "# Metadata\n",
    "\n",
    "```yaml\n",
    "Course:   DS 5100\n",
    "Term:     Fall 2023 Online\n",
    "Module:   M02 Homework\n",
    "Author:   R.C. Alvarado\n",
    "Date:     19 August 2023\n",
    "```"
   ]
  },
  {
   "cell_type": "markdown",
   "id": "acbbe6c6-0347-4e47-ba76-e65a5cd21bcb",
   "metadata": {},
   "source": [
    "# Student Info\n",
    "\n",
    "* Name: \n",
    "* Net ID:\n",
    "* URL of this file in GitHub:"
   ]
  },
  {
   "cell_type": "code",
   "execution_count": null,
   "id": "8f56f17d-7f17-4962-880e-7352c4a314f3",
   "metadata": {
    "tags": []
   },
   "outputs": [],
   "source": [
    "# Instructions\n",
    "\n",
    "In your **private course repo on Rivanna**, write a Jupyter notebook running Python that performs the numbered tasks below. For each task, create a code block to perform the task.\n",
    "\n",
    "Save your notebook in the `M02` directory as `hw02.ipynb`. \n",
    "\n",
    "Add and commit these files to your repo. \n",
    "\n",
    "Then push your commits to your repo on GitHib.\n",
    "\n",
    "Be sure to fill out the **Student Info** block above.\n",
    "\n",
    "To submit your homework, save the notebook as a PDF and upload it to GradeScope, following the instructions.\n",
    "\n",
    "**10 Points**"
   ]
  },
  {
   "cell_type": "code",
   "execution_count": null,
   "id": "8615028a-b71e-422e-a5e3-1c2c524c3fa4",
   "metadata": {
    "tags": []
   },
   "outputs": [],
   "source": [
    "# Data\n",
    "\n",
    "```\n",
    "Table 1: GRADES\n",
    "\n",
    "name    grade\n",
    "Jon     95\n",
    "Mike    84\n",
    "Jaime   99\n",
    "\n",
    "\n",
    "Table 2: TOUCHDOWNS\n",
    "\n",
    "name    touchdowns\n",
    "Alex    2\n",
    "Patrick 4\n",
    "Tom     1\n",
    "Joe     3\n",
    "Alex    1\n",
    "```"
   ]
  },
  {
   "cell_type": "code",
   "execution_count": null,
   "id": "be221a51-83e5-4730-98ab-fb092163983f",
   "metadata": {
    "tags": []
   },
   "outputs": [],
   "source": [
    "# Tasks"
   ]
  },
  {
   "cell_type": "code",
   "execution_count": null,
   "id": "f18aedba-3edd-4357-9974-c4a7be0fecc4",
   "metadata": {
    "tags": []
   },
   "outputs": [],
   "source": [
    "## Task 1\n",
    "\n",
    "Using the data in Table 1, create a dictionary called `gradebook` where the keys contain the names and the values are the associated grades. Print the dictionary.  (1 PT) "
   ]
  },
  {
   "cell_type": "code",
   "execution_count": 40,
   "id": "5a489efe-a6de-44da-8b56-92ad3742d5ad",
   "metadata": {},
   "outputs": [],
   "source": [
    "# Put code here"
   ]
  },
  {
   "cell_type": "code",
   "execution_count": null,
   "id": "1c7d3903-7659-44d6-bbd2-26b3dd9545a4",
   "metadata": {
    "tags": []
   },
   "outputs": [],
   "source": [
    "## Task 2 \n",
    "\n",
    "Index into the gradebook to print Mike's grade. Do NOT use the `get()` method for this. (1 PT) "
   ]
  },
  {
   "cell_type": "code",
   "execution_count": 2,
   "id": "085a45f2-1cec-40f9-9ecb-c4f1cdfbe44e",
   "metadata": {},
   "outputs": [],
   "source": [
    "# Put code here"
   ]
  },
  {
   "cell_type": "code",
   "execution_count": null,
   "id": "7b74574f-c2ae-4d38-8e2c-ed25bdb19564",
   "metadata": {
    "tags": []
   },
   "outputs": [],
   "source": [
    "## Task 3\n",
    "\n",
    "Attempt to index into gradebook to print Jeff's grade. Show the result. Do NOT use the `get()` method for this. (1 PT) "
   ]
  },
  {
   "cell_type": "code",
   "execution_count": 2,
   "id": "b762bb45-d99c-46d1-9087-42ae931e5336",
   "metadata": {},
   "outputs": [],
   "source": [
    "# Put code here"
   ]
  },
  {
   "cell_type": "code",
   "execution_count": null,
   "id": "8bc2b2ad-a2d6-4008-848b-08daaac60f5a",
   "metadata": {
    "tags": []
   },
   "outputs": [],
   "source": [
    "## Task 4\n",
    "\n",
    "Using Table 2, build a list from the names called `names` and print it. (1 PT) "
   ]
  },
  {
   "cell_type": "code",
   "execution_count": 2,
   "id": "bc13167e-ae26-4852-b0a9-b8943da95b6f",
   "metadata": {},
   "outputs": [],
   "source": [
    "# Put code here"
   ]
  },
  {
   "cell_type": "code",
   "execution_count": null,
   "id": "33039d94-454d-4b80-b91e-f5fb4713ffaa",
   "metadata": {
    "tags": []
   },
   "outputs": [],
   "source": [
    "## Task 5\n",
    "\n",
    "Sort the list in ascending order and print it. (1 PT) "
   ]
  },
  {
   "cell_type": "code",
   "execution_count": 3,
   "id": "5be543cb-1433-4982-8719-49bf59a6ad39",
   "metadata": {},
   "outputs": [],
   "source": [
    "# Put code here"
   ]
  },
  {
   "cell_type": "code",
   "execution_count": null,
   "id": "dfeb81cb-b28b-4f51-a789-f51c3c4258c6",
   "metadata": {
    "tags": []
   },
   "outputs": [],
   "source": [
    "## Task 6 \n",
    "\n",
    "Build a set from the names in Table 2 and print it. (1 PT) "
   ]
  },
  {
   "cell_type": "code",
   "execution_count": 2,
   "id": "8af4b364-8338-4e21-ac47-41cd6e178f84",
   "metadata": {},
   "outputs": [],
   "source": [
    "# Put code here"
   ]
  },
  {
   "cell_type": "code",
   "execution_count": null,
   "id": "04f9d649-b688-4356-b99f-f1764035686d",
   "metadata": {
    "tags": []
   },
   "outputs": [],
   "source": [
    "## Task 7\n",
    "\n",
    "Build a dictionary from the touchdowns data, calling it `td`, and print it. Use lists to store the values. Remember that dictionary keys must be unique. (1 PT) "
   ]
  },
  {
   "cell_type": "code",
   "execution_count": 4,
   "id": "13025689-51ec-472c-a4aa-4a2bf1cefa3d",
   "metadata": {},
   "outputs": [],
   "source": [
    "# Put code here"
   ]
  },
  {
   "cell_type": "code",
   "execution_count": null,
   "id": "2963bd84-2a1b-4906-a9a4-ef0f93e43aa3",
   "metadata": {
    "tags": []
   },
   "outputs": [],
   "source": [
    "## Task 8\n",
    "\n",
    "Compute the sum of Alex's touchdowns using the appropriate built-in function. (1 PT)"
   ]
  },
  {
   "cell_type": "code",
   "execution_count": 6,
   "id": "3f5399fb-bf65-4c0b-b213-39028fa97aab",
   "metadata": {},
   "outputs": [],
   "source": [
    "# Put code here"
   ]
  },
  {
   "cell_type": "code",
   "execution_count": null,
   "id": "bdfe27a0-4f2c-420d-b9ad-c50b413b3de4",
   "metadata": {
    "tags": []
   },
   "outputs": [],
   "source": [
    "## Task 9\n",
    "\n",
    "Get the keys from `td` and save them as a sorted list `list1`. Then get a set from `names` and save them as a sorted list called `list2`. Compare them with a boolean operator to see if they are equal. (2 PTS)"
   ]
  },
  {
   "cell_type": "code",
   "execution_count": 32,
   "id": "498341c5-2288-4c06-a6d7-5a690ef3444e",
   "metadata": {},
   "outputs": [],
   "source": [
    "# Put code here"
   ]
  }
 ],
 "metadata": {
  "kernelspec": {
   "display_name": "Python 3 (ipykernel)",
   "language": "python",
   "name": "python3"
  },
  "language_info": {
   "codemirror_mode": {
    "name": "ipython",
    "version": 3
   },
   "file_extension": ".py",
   "mimetype": "text/x-python",
   "name": "python",
   "nbconvert_exporter": "python",
   "pygments_lexer": "ipython3",
   "version": "3.12.2"
  },
  "widgets": {
   "application/vnd.jupyter.widget-state+json": {
    "state": {},
    "version_major": 2,
    "version_minor": 0
   }
  }
 },
 "nbformat": 4,
 "nbformat_minor": 5
}
