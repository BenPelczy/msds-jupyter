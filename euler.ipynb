{
 "cells": [
  {
   "cell_type": "code",
   "execution_count": 1,
   "id": "c1495b96-487f-41a8-8205-38a1cfc5e3bd",
   "metadata": {},
   "outputs": [
    {
     "name": "stdout",
     "output_type": "stream",
     "text": [
      "233168\n"
     ]
    }
   ],
   "source": [
    "sum = 0\n",
    "for x in range(1000):\n",
    "  if x % 3 == 0 or x % 5 == 0:\n",
    "  \tsum += x\n",
    "print(sum)"
   ]
  },
  {
   "cell_type": "code",
   "execution_count": 2,
   "id": "dee88fa1-560e-4fae-96db-17311f027c44",
   "metadata": {},
   "outputs": [
    {
     "name": "stdout",
     "output_type": "stream",
     "text": [
      "4613732\n"
     ]
    }
   ],
   "source": [
    "sum = 0\n",
    "num1 = 1\n",
    "num2 = 2\n",
    "while num2 <= 4000000:\n",
    "  if num2 % 2 == 0:\n",
    "    sum += num2\n",
    "  temp = num2\n",
    "  num2 += num1\n",
    "  num1 = temp\n",
    "print(sum)"
   ]
  },
  {
   "cell_type": "code",
   "execution_count": 3,
   "id": "e7742370-7458-4744-a5ac-e5b512a47749",
   "metadata": {},
   "outputs": [
    {
     "name": "stdout",
     "output_type": "stream",
     "text": [
      "6857.0\n"
     ]
    }
   ],
   "source": [
    "def isPrime(n):\n",
    "    i = 2\n",
    "    while i * i <= n:\n",
    "        if n % i:\n",
    "            i += 1\n",
    "        else:\n",
    "            return False\n",
    "    return True\n",
    "\n",
    "def lpf(n):\n",
    "    i = 2\n",
    "    while i * i <= n:\n",
    "        if n % i:\n",
    "            i += 1\n",
    "        else:\n",
    "            if isPrime(i):\n",
    "                if isPrime(n/i):\n",
    "                    return(n/i)\n",
    "                else:\n",
    "                    return(lpf(n/i))\n",
    "\n",
    "n = 600851475143\n",
    "print(lpf(n))"
   ]
  },
  {
   "cell_type": "code",
   "execution_count": null,
   "id": "8d11d9e8-f26e-4e2f-9476-5a65cb59ce89",
   "metadata": {},
   "outputs": [],
   "source": []
  }
 ],
 "metadata": {
  "kernelspec": {
   "display_name": "Python 3 (ipykernel)",
   "language": "python",
   "name": "python3"
  },
  "language_info": {
   "codemirror_mode": {
    "name": "ipython",
    "version": 3
   },
   "file_extension": ".py",
   "mimetype": "text/x-python",
   "name": "python",
   "nbconvert_exporter": "python",
   "pygments_lexer": "ipython3",
   "version": "3.12.2"
  }
 },
 "nbformat": 4,
 "nbformat_minor": 5
}
