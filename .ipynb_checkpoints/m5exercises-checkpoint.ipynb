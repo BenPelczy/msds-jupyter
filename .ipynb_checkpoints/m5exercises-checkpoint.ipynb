{
 "cells": [
  {
   "cell_type": "code",
   "execution_count": 3,
   "id": "9baf182c-c1b0-489b-b833-8c98558a8019",
   "metadata": {},
   "outputs": [],
   "source": [
    "import time"
   ]
  },
  {
   "cell_type": "code",
   "execution_count": 9,
   "id": "9f8c74ab-d764-4065-a3a9-f294c3468a67",
   "metadata": {},
   "outputs": [
    {
     "name": "stdout",
     "output_type": "stream",
     "text": [
      "0.002691984176635742\n"
     ]
    }
   ],
   "source": [
    "t0 = time.time()\n",
    "intlist = []\n",
    "for i in range(1, 10001):\n",
    "    if i % 2 == 0:\n",
    "        intlist.append(i)\n",
    "    else:\n",
    "        intlist.append(-i)\n",
    "print(time.time() - t0)"
   ]
  },
  {
   "cell_type": "code",
   "execution_count": 10,
   "id": "7adc2213-d2f8-43fe-bed6-cd1c0706840e",
   "metadata": {},
   "outputs": [
    {
     "name": "stdout",
     "output_type": "stream",
     "text": [
      "0.001505136489868164\n"
     ]
    }
   ],
   "source": [
    "t0 = time.time()\n",
    "intlist = [i if  i % 2 == 0 else -i for i in range(1, 10001)]\n",
    "print(time.time() - t0)"
   ]
  },
  {
   "cell_type": "code",
   "execution_count": 11,
   "id": "a14ffa81-dcdf-453a-b1ea-08f26e80b1c6",
   "metadata": {},
   "outputs": [],
   "source": [
    "import numpy as np"
   ]
  },
  {
   "cell_type": "code",
   "execution_count": 16,
   "id": "ea560b1f-7f98-44de-82a8-4aa802a644c3",
   "metadata": {},
   "outputs": [
    {
     "name": "stdout",
     "output_type": "stream",
     "text": [
      "2, 5, 5, 2, 1, 5, 2, 6, 5, 6\n"
     ]
    }
   ],
   "source": [
    "intlist = np.random.randint(1, 7, 10)\n",
    "print(', '.join(intlist.astype(str)))"
   ]
  },
  {
   "cell_type": "code",
   "execution_count": 28,
   "id": "4ebe9f57-145a-46e6-a568-187f7dc10456",
   "metadata": {},
   "outputs": [
    {
     "name": "stdout",
     "output_type": "stream",
     "text": [
      "6\n"
     ]
    }
   ],
   "source": [
    "i1 = np.random.randint(21)\n",
    "print(i1)"
   ]
  },
  {
   "cell_type": "code",
   "execution_count": 29,
   "id": "bd1726ef-f4e8-45e2-a44d-cf2ec9c17c5e",
   "metadata": {},
   "outputs": [
    {
     "data": {
      "text/plain": [
       "int"
      ]
     },
     "execution_count": 29,
     "metadata": {},
     "output_type": "execute_result"
    }
   ],
   "source": [
    "type(i1)"
   ]
  },
  {
   "cell_type": "code",
   "execution_count": 30,
   "id": "1a83dcd2-6ed8-4c57-acbf-811c4e105d02",
   "metadata": {},
   "outputs": [
    {
     "name": "stdout",
     "output_type": "stream",
     "text": [
      "[ 7 11  8 19 18]\n"
     ]
    }
   ],
   "source": [
    "i2 = np.random.randint(1, 21, 5)\n",
    "print(i2)"
   ]
  },
  {
   "cell_type": "code",
   "execution_count": 31,
   "id": "77e11caf-fc76-475b-92f0-1694cb1a1f96",
   "metadata": {},
   "outputs": [
    {
     "data": {
      "text/plain": [
       "numpy.ndarray"
      ]
     },
     "execution_count": 31,
     "metadata": {},
     "output_type": "execute_result"
    }
   ],
   "source": [
    "type(i2)"
   ]
  },
  {
   "cell_type": "code",
   "execution_count": 33,
   "id": "5519c804-782e-49e3-aac4-03861d644ae9",
   "metadata": {},
   "outputs": [],
   "source": [
    "from matplotlib.pyplot import hist"
   ]
  },
  {
   "cell_type": "code",
   "execution_count": 35,
   "id": "d1e79381-a9d5-4029-b878-ef7b451334c3",
   "metadata": {},
   "outputs": [
    {
     "data": {
      "text/plain": [
       "(array([2., 0., 0., 1., 0., 0., 0., 0., 0., 2.]),\n",
       " array([ 7. ,  8.2,  9.4, 10.6, 11.8, 13. , 14.2, 15.4, 16.6, 17.8, 19. ]),\n",
       " <BarContainer object of 10 artists>)"
      ]
     },
     "execution_count": 35,
     "metadata": {},
     "output_type": "execute_result"
    },
    {
     "data": {
      "image/png": "[encoded data removed]",
      "text/plain": [
       "<Figure size 640x480 with 1 Axes>"
      ]
     },
     "metadata": {},
     "output_type": "display_data"
    }
   ],
   "source": [
    "hist(i2)"
   ]
  },
  {
   "cell_type": "code",
   "execution_count": 37,
   "id": "0ca9b617-e391-44f4-b626-8ad7b5cbe0db",
   "metadata": {},
   "outputs": [
    {
     "data": {
      "text/plain": [
       "array([[-0.56852777, -0.61765366, -0.67338766],\n",
       "       [ 0.57845071, -1.64243879,  1.23368705]])"
      ]
     },
     "execution_count": 37,
     "metadata": {},
     "output_type": "execute_result"
    }
   ],
   "source": [
    "x = np.random.randn(2, 3)\n",
    "x"
   ]
  },
  {
   "cell_type": "code",
   "execution_count": 38,
   "id": "c1188882-0d5d-44aa-82a7-4fb37158d227",
   "metadata": {},
   "outputs": [
    {
     "data": {
      "text/plain": [
       "array([[-1.13705554, -1.23530732, -1.34677531],\n",
       "       [ 1.15690142, -3.28487759,  2.46737409]])"
      ]
     },
     "execution_count": 38,
     "metadata": {},
     "output_type": "execute_result"
    }
   ],
   "source": [
    "2*x"
   ]
  },
  {
   "cell_type": "code",
   "execution_count": 40,
   "id": "5bb43847-6b45-4506-937d-4be1287f8b5d",
   "metadata": {},
   "outputs": [
    {
     "data": {
      "text/plain": [
       "array([[-1.13705554, -1.23530732, -1.34677531],\n",
       "       [ 1.15690142, -3.28487759,  2.46737409]])"
      ]
     },
     "execution_count": 40,
     "metadata": {},
     "output_type": "execute_result"
    }
   ],
   "source": [
    "x + x"
   ]
  },
  {
   "cell_type": "code",
   "execution_count": 41,
   "id": "fc2d4757-cebf-46dd-b255-f11385b08d3e",
   "metadata": {},
   "outputs": [
    {
     "data": {
      "text/plain": [
       "array([[-1.75892903, -1.61903032, -1.48502871],\n",
       "       [ 1.72875577, -0.60885069,  0.81057834]])"
      ]
     },
     "execution_count": 41,
     "metadata": {},
     "output_type": "execute_result"
    }
   ],
   "source": [
    "1/x"
   ]
  },
  {
   "cell_type": "code",
   "execution_count": 47,
   "id": "37c13581-fba8-4425-acb7-adaaa1990870",
   "metadata": {},
   "outputs": [
    {
     "data": {
      "text/plain": [
       "array([[0., 0., 0., 0.],\n",
       "       [0., 0., 0., 0.]])"
      ]
     },
     "execution_count": 47,
     "metadata": {},
     "output_type": "execute_result"
    }
   ],
   "source": [
    "x = np.zeros((2, 4))\n",
    "x"
   ]
  },
  {
   "cell_type": "code",
   "execution_count": 48,
   "id": "9d603f34-66d5-4c41-bad9-2dca1da7f8e8",
   "metadata": {},
   "outputs": [
    {
     "data": {
      "text/plain": [
       "array([[1., 1., 1., 1.],\n",
       "       [1., 1., 1., 1.]])"
      ]
     },
     "execution_count": 48,
     "metadata": {},
     "output_type": "execute_result"
    }
   ],
   "source": [
    "y = np.ones((2, 4))\n",
    "y"
   ]
  },
  {
   "cell_type": "code",
   "execution_count": 52,
   "id": "5eef1a76-5e2a-4ae8-8e6b-54199c705998",
   "metadata": {},
   "outputs": [
    {
     "data": {
      "text/plain": [
       "array([[1., 0., 0., 0.],\n",
       "       [0., 1., 0., 0.],\n",
       "       [0., 0., 1., 0.],\n",
       "       [0., 0., 0., 1.]])"
      ]
     },
     "execution_count": 52,
     "metadata": {},
     "output_type": "execute_result"
    }
   ],
   "source": [
    "x = np.identity(4)\n",
    "x"
   ]
  },
  {
   "cell_type": "code",
   "execution_count": 58,
   "id": "65c16143-86b3-4337-b268-a57ec4eb8fac",
   "metadata": {},
   "outputs": [
    {
     "data": {
      "text/plain": [
       "array([-1.61172091, -0.62833535,  0.1583219 ,  1.43204906, -0.55334862])"
      ]
     },
     "execution_count": 58,
     "metadata": {},
     "output_type": "execute_result"
    }
   ],
   "source": [
    "x = np.random.randn(5)\n",
    "x"
   ]
  },
  {
   "cell_type": "code",
   "execution_count": 59,
   "id": "6cdb343a-6f35-4141-b0bf-8a3282efa476",
   "metadata": {},
   "outputs": [
    {
     "data": {
      "text/plain": [
       "array([-0.62833535,  0.1583219 ,  1.43204906])"
      ]
     },
     "execution_count": 59,
     "metadata": {},
     "output_type": "execute_result"
    }
   ],
   "source": [
    "x[1:4]"
   ]
  },
  {
   "cell_type": "code",
   "execution_count": 60,
   "id": "b532f772-18fa-4860-94ee-50562a829874",
   "metadata": {},
   "outputs": [
    {
     "data": {
      "text/plain": [
       "array([-0.62833535,  0.1583219 ,  1.43204906])"
      ]
     },
     "execution_count": 60,
     "metadata": {},
     "output_type": "execute_result"
    }
   ],
   "source": [
    "x[1:-1]"
   ]
  },
  {
   "cell_type": "code",
   "execution_count": 61,
   "id": "f8c6ec10-b9a6-48aa-af0d-2b0665e549b6",
   "metadata": {},
   "outputs": [
    {
     "data": {
      "text/plain": [
       "array([0.1583219 , 1.43204906])"
      ]
     },
     "execution_count": 61,
     "metadata": {},
     "output_type": "execute_result"
    }
   ],
   "source": [
    "x[x > .15]"
   ]
  },
  {
   "cell_type": "code",
   "execution_count": 64,
   "id": "436cc06a-07ac-466c-a634-e7736e9d1884",
   "metadata": {},
   "outputs": [
    {
     "data": {
      "text/plain": [
       "array([False, False,  True,  True, False])"
      ]
     },
     "execution_count": 64,
     "metadata": {},
     "output_type": "execute_result"
    }
   ],
   "source": [
    "bool_x = x > .15\n",
    "bool_x"
   ]
  },
  {
   "cell_type": "code",
   "execution_count": null,
   "id": "dd1c5e45-c08a-4414-b9b9-e30dcffe63bb",
   "metadata": {},
   "outputs": [],
   "source": []
  }
 ],
 "metadata": {
  "kernelspec": {
   "display_name": "Python 3 (ipykernel)",
   "language": "python",
   "name": "python3"
  },
  "language_info": {
   "codemirror_mode": {
    "name": "ipython",
    "version": 3
   },
   "file_extension": ".py",
   "mimetype": "text/x-python",
   "name": "python",
   "nbconvert_exporter": "python",
   "pygments_lexer": "ipython3",
   "version": "3.12.2"
  }
 },
 "nbformat": 4,
 "nbformat_minor": 5
}
