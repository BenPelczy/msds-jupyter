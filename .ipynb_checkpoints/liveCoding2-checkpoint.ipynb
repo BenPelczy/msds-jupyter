{
 "cells": [
  {
   "cell_type": "code",
   "execution_count": 2,
   "id": "d992ac62-0cfa-4a1a-8eb2-d6a96f29465c",
   "metadata": {},
   "outputs": [],
   "source": [
    "import numpy as np\n",
    "import pandas as pd\n",
    "import json\n",
    "import requests"
   ]
  },
  {
   "cell_type": "markdown",
   "id": "60e9e168-de65-4c86-a5f0-735ccaf0c293",
   "metadata": {},
   "source": [
    "User-agent string: some text that describes the system we are using to access the webpage.\n",
    "Generally good etiquette to supply your User-agent string as a \"header\" in a HTTP call"
   ]
  },
  {
   "cell_type": "code",
   "execution_count": 12,
   "id": "9c94641f-bfad-4a94-9cdf-d1351b3782e1",
   "metadata": {},
   "outputs": [
    {
     "data": {
      "text/plain": [
       "<Response [200]>"
      ]
     },
     "execution_count": 12,
     "metadata": {},
     "output_type": "execute_result"
    }
   ],
   "source": [
    "url = \"https://httpbin.org/user-agent\"\n",
    "r = requests.get(url)\n",
    "r"
   ]
  },
  {
   "cell_type": "code",
   "execution_count": 13,
   "id": "15bda873-0351-45d4-b85b-d73c0af1bbe9",
   "metadata": {},
   "outputs": [
    {
     "data": {
      "text/plain": [
       "'{\\n  \"user-agent\": \"python-requests/2.31.0\"\\n}\\n'"
      ]
     },
     "execution_count": 13,
     "metadata": {},
     "output_type": "execute_result"
    }
   ],
   "source": [
    "r.text"
   ]
  },
  {
   "cell_type": "markdown",
   "id": "b82efc49-b2aa-49d4-9c5c-d400923cd96e",
   "metadata": {},
   "source": [
    "The four key method in the JSON package:\n",
    "1. loads - convert a string in the Python kernel to dictionaries/lists\n",
    "2. load - load a text file and store it as dictionaries/lists\n",
    "3. dumps - convert a dictionary/list in the Python kernel to a string\n",
    "4. dump - save a dictionary/list in the Python kernel to a text file"
   ]
  },
  {
   "cell_type": "code",
   "execution_count": 16,
   "id": "03ed668d-7f82-465b-9454-c95cb0aba7c4",
   "metadata": {},
   "outputs": [],
   "source": [
    "myjson = json.loads(r.text)\n",
    "useragent = myjson[\"user-agent\"]\n",
    "headers = {\"User-Agent\": useragent, \"From\": \"mdg7wj@virginia.edu\"}"
   ]
  },
  {
   "cell_type": "code",
   "execution_count": 17,
   "id": "31acca05-02f5-417f-9e20-f984c7a9c5b0",
   "metadata": {},
   "outputs": [
    {
     "data": {
      "text/plain": [
       "{'User-Agent': 'python-requests/2.31.0', 'From': 'mdg7wj@virginia.edu'}"
      ]
     },
     "execution_count": 17,
     "metadata": {},
     "output_type": "execute_result"
    }
   ],
   "source": [
    "headers"
   ]
  },
  {
   "cell_type": "markdown",
   "id": "6be41b96-ce19-49e5-a9f6-31bf56436891",
   "metadata": {},
   "source": [
    "## Cocktail DB"
   ]
  },
  {
   "cell_type": "code",
   "execution_count": 64,
   "id": "23f4f714-1687-491e-a24d-6ecf55245873",
   "metadata": {},
   "outputs": [
    {
     "data": {
      "text/plain": [
       "<Response [200]>"
      ]
     },
     "execution_count": 64,
     "metadata": {},
     "output_type": "execute_result"
    }
   ],
   "source": [
    "url = \"https://www.thecocktaildb.com/api/json/v1/1/filter.php?c=Cocktail\"\n",
    "r = requests.get(url, headers = headers)\n",
    "r"
   ]
  },
  {
   "cell_type": "code",
   "execution_count": 65,
   "id": "ea26adc7-7951-4071-bdcd-33e378a75dfc",
   "metadata": {},
   "outputs": [
    {
     "data": {
      "text/html": [
       "<div>\n",
       "<style scoped>\n",
       "    .dataframe tbody tr th:only-of-type {\n",
       "        vertical-align: middle;\n",
       "    }\n",
       "\n",
       "    .dataframe tbody tr th {\n",
       "        vertical-align: top;\n",
       "    }\n",
       "\n",
       "    .dataframe thead th {\n",
       "        text-align: right;\n",
       "    }\n",
       "</style>\n",
       "<table border=\"1\" class=\"dataframe\">\n",
       "  <thead>\n",
       "    <tr style=\"text-align: right;\">\n",
       "      <th></th>\n",
       "      <th>strDrink</th>\n",
       "      <th>strDrinkThumb</th>\n",
       "      <th>idDrink</th>\n",
       "    </tr>\n",
       "  </thead>\n",
       "  <tbody>\n",
       "    <tr>\n",
       "      <th>0</th>\n",
       "      <td>155 Belmont</td>\n",
       "      <td>https://www.thecocktaildb.com/images/media/dri...</td>\n",
       "      <td>15346</td>\n",
       "    </tr>\n",
       "    <tr>\n",
       "      <th>1</th>\n",
       "      <td>57 Chevy with a White License Plate</td>\n",
       "      <td>https://www.thecocktaildb.com/images/media/dri...</td>\n",
       "      <td>14029</td>\n",
       "    </tr>\n",
       "    <tr>\n",
       "      <th>2</th>\n",
       "      <td>747 Drink</td>\n",
       "      <td>https://www.thecocktaildb.com/images/media/dri...</td>\n",
       "      <td>178318</td>\n",
       "    </tr>\n",
       "    <tr>\n",
       "      <th>3</th>\n",
       "      <td>9 1/2 Weeks</td>\n",
       "      <td>https://www.thecocktaildb.com/images/media/dri...</td>\n",
       "      <td>16108</td>\n",
       "    </tr>\n",
       "    <tr>\n",
       "      <th>4</th>\n",
       "      <td>A Gilligan's Island</td>\n",
       "      <td>https://www.thecocktaildb.com/images/media/dri...</td>\n",
       "      <td>16943</td>\n",
       "    </tr>\n",
       "    <tr>\n",
       "      <th>...</th>\n",
       "      <td>...</td>\n",
       "      <td>...</td>\n",
       "      <td>...</td>\n",
       "    </tr>\n",
       "    <tr>\n",
       "      <th>95</th>\n",
       "      <td>Miami Vice</td>\n",
       "      <td>https://www.thecocktaildb.com/images/media/dri...</td>\n",
       "      <td>13936</td>\n",
       "    </tr>\n",
       "    <tr>\n",
       "      <th>96</th>\n",
       "      <td>Michelada</td>\n",
       "      <td>https://www.thecocktaildb.com/images/media/dri...</td>\n",
       "      <td>178343</td>\n",
       "    </tr>\n",
       "    <tr>\n",
       "      <th>97</th>\n",
       "      <td>Midnight Mint</td>\n",
       "      <td>https://www.thecocktaildb.com/images/media/dri...</td>\n",
       "      <td>14842</td>\n",
       "    </tr>\n",
       "    <tr>\n",
       "      <th>98</th>\n",
       "      <td>Mojito</td>\n",
       "      <td>https://www.thecocktaildb.com/images/media/dri...</td>\n",
       "      <td>11000</td>\n",
       "    </tr>\n",
       "    <tr>\n",
       "      <th>99</th>\n",
       "      <td>Mojito Extra</td>\n",
       "      <td>https://www.thecocktaildb.com/images/media/dri...</td>\n",
       "      <td>15841</td>\n",
       "    </tr>\n",
       "  </tbody>\n",
       "</table>\n",
       "<p>100 rows × 3 columns</p>\n",
       "</div>"
      ],
      "text/plain": [
       "                               strDrink  \\\n",
       "0                           155 Belmont   \n",
       "1   57 Chevy with a White License Plate   \n",
       "2                             747 Drink   \n",
       "3                           9 1/2 Weeks   \n",
       "4                   A Gilligan's Island   \n",
       "..                                  ...   \n",
       "95                           Miami Vice   \n",
       "96                            Michelada   \n",
       "97                        Midnight Mint   \n",
       "98                               Mojito   \n",
       "99                         Mojito Extra   \n",
       "\n",
       "                                        strDrinkThumb idDrink  \n",
       "0   https://www.thecocktaildb.com/images/media/dri...   15346  \n",
       "1   https://www.thecocktaildb.com/images/media/dri...   14029  \n",
       "2   https://www.thecocktaildb.com/images/media/dri...  178318  \n",
       "3   https://www.thecocktaildb.com/images/media/dri...   16108  \n",
       "4   https://www.thecocktaildb.com/images/media/dri...   16943  \n",
       "..                                                ...     ...  \n",
       "95  https://www.thecocktaildb.com/images/media/dri...   13936  \n",
       "96  https://www.thecocktaildb.com/images/media/dri...  178343  \n",
       "97  https://www.thecocktaildb.com/images/media/dri...   14842  \n",
       "98  https://www.thecocktaildb.com/images/media/dri...   11000  \n",
       "99  https://www.thecocktaildb.com/images/media/dri...   15841  \n",
       "\n",
       "[100 rows x 3 columns]"
      ]
     },
     "execution_count": 65,
     "metadata": {},
     "output_type": "execute_result"
    }
   ],
   "source": [
    "myjson = json.loads(r.text)\n",
    "cota_df = pd.json_normalize(myjson, record_path = [\"drinks\"])\n",
    "cota_df"
   ]
  },
  {
   "cell_type": "markdown",
   "id": "c5642085-d669-4282-8ddd-cedb77868d03",
   "metadata": {},
   "source": [
    "## Wikipedia"
   ]
  },
  {
   "cell_type": "code",
   "execution_count": 62,
   "id": "c6955481-6e5f-4f41-959d-bf816354af44",
   "metadata": {},
   "outputs": [
    {
     "data": {
      "text/plain": [
       "<Response [200]>"
      ]
     },
     "execution_count": 62,
     "metadata": {},
     "output_type": "execute_result"
    }
   ],
   "source": [
    "url = \"https://en.wikipedia.org/w/api.php?action=query&list=search&srsearch=Virginia&format=json&srlimit=500\"\n",
    "r = requests.get(url, headers = headers)\n",
    "r"
   ]
  },
  {
   "cell_type": "code",
   "execution_count": 63,
   "id": "95960e05-d515-4cfa-9f33-20697bea2fcb",
   "metadata": {},
   "outputs": [
    {
     "data": {
      "text/html": [
       "<div>\n",
       "<style scoped>\n",
       "    .dataframe tbody tr th:only-of-type {\n",
       "        vertical-align: middle;\n",
       "    }\n",
       "\n",
       "    .dataframe tbody tr th {\n",
       "        vertical-align: top;\n",
       "    }\n",
       "\n",
       "    .dataframe thead th {\n",
       "        text-align: right;\n",
       "    }\n",
       "</style>\n",
       "<table border=\"1\" class=\"dataframe\">\n",
       "  <thead>\n",
       "    <tr style=\"text-align: right;\">\n",
       "      <th></th>\n",
       "      <th>ns</th>\n",
       "      <th>title</th>\n",
       "      <th>pageid</th>\n",
       "      <th>size</th>\n",
       "      <th>wordcount</th>\n",
       "      <th>snippet</th>\n",
       "      <th>timestamp</th>\n",
       "    </tr>\n",
       "  </thead>\n",
       "  <tbody>\n",
       "    <tr>\n",
       "      <th>0</th>\n",
       "      <td>0</td>\n",
       "      <td>Virginia</td>\n",
       "      <td>32432</td>\n",
       "      <td>306919</td>\n",
       "      <td>26638</td>\n",
       "      <td>&lt;span class=\"searchmatch\"&gt;Virginia&lt;/span&gt;, off...</td>\n",
       "      <td>2024-06-24T19:11:24Z</td>\n",
       "    </tr>\n",
       "    <tr>\n",
       "      <th>1</th>\n",
       "      <td>0</td>\n",
       "      <td>West Virginia</td>\n",
       "      <td>32905</td>\n",
       "      <td>186926</td>\n",
       "      <td>17931</td>\n",
       "      <td>West &lt;span class=\"searchmatch\"&gt;Virginia&lt;/span&gt;...</td>\n",
       "      <td>2024-06-13T19:54:31Z</td>\n",
       "    </tr>\n",
       "    <tr>\n",
       "      <th>2</th>\n",
       "      <td>0</td>\n",
       "      <td>Virginia Beach, Virginia</td>\n",
       "      <td>91239</td>\n",
       "      <td>151468</td>\n",
       "      <td>13478</td>\n",
       "      <td>&lt;span class=\"searchmatch\"&gt;Virginia&lt;/span&gt; Beac...</td>\n",
       "      <td>2024-06-21T03:10:21Z</td>\n",
       "    </tr>\n",
       "    <tr>\n",
       "      <th>3</th>\n",
       "      <td>0</td>\n",
       "      <td>List of municipalities in West Virginia</td>\n",
       "      <td>47238088</td>\n",
       "      <td>40608</td>\n",
       "      <td>87</td>\n",
       "      <td>West &lt;span class=\"searchmatch\"&gt;Virginia&lt;/span&gt;...</td>\n",
       "      <td>2024-05-05T01:13:57Z</td>\n",
       "    </tr>\n",
       "    <tr>\n",
       "      <th>4</th>\n",
       "      <td>0</td>\n",
       "      <td>Virginia Woolf</td>\n",
       "      <td>32742</td>\n",
       "      <td>158860</td>\n",
       "      <td>16396</td>\n",
       "      <td>Adeline &lt;span class=\"searchmatch\"&gt;Virginia&lt;/sp...</td>\n",
       "      <td>2024-06-22T21:38:06Z</td>\n",
       "    </tr>\n",
       "    <tr>\n",
       "      <th>...</th>\n",
       "      <td>...</td>\n",
       "      <td>...</td>\n",
       "      <td>...</td>\n",
       "      <td>...</td>\n",
       "      <td>...</td>\n",
       "      <td>...</td>\n",
       "      <td>...</td>\n",
       "    </tr>\n",
       "    <tr>\n",
       "      <th>495</th>\n",
       "      <td>0</td>\n",
       "      <td>Tucker County, West Virginia</td>\n",
       "      <td>91004</td>\n",
       "      <td>28890</td>\n",
       "      <td>2342</td>\n",
       "      <td>county in the U.S. state of West &lt;span class=\"...</td>\n",
       "      <td>2023-12-15T20:24:27Z</td>\n",
       "    </tr>\n",
       "    <tr>\n",
       "      <th>496</th>\n",
       "      <td>0</td>\n",
       "      <td>Crozet, Virginia</td>\n",
       "      <td>137490</td>\n",
       "      <td>13522</td>\n",
       "      <td>1352</td>\n",
       "      <td>census-designated place (CDP) in Albemarle Cou...</td>\n",
       "      <td>2024-05-07T02:48:38Z</td>\n",
       "    </tr>\n",
       "    <tr>\n",
       "      <th>497</th>\n",
       "      <td>0</td>\n",
       "      <td>Giles County, Virginia</td>\n",
       "      <td>91316</td>\n",
       "      <td>18742</td>\n",
       "      <td>1308</td>\n",
       "      <td>Giles County is a county located in the U.S. s...</td>\n",
       "      <td>2024-06-21T18:24:08Z</td>\n",
       "    </tr>\n",
       "    <tr>\n",
       "      <th>498</th>\n",
       "      <td>0</td>\n",
       "      <td>Army of Virginia</td>\n",
       "      <td>1375163</td>\n",
       "      <td>5373</td>\n",
       "      <td>575</td>\n",
       "      <td>The Army of &lt;span class=\"searchmatch\"&gt;Virginia...</td>\n",
       "      <td>2024-04-14T16:15:44Z</td>\n",
       "    </tr>\n",
       "    <tr>\n",
       "      <th>499</th>\n",
       "      <td>0</td>\n",
       "      <td>Alleghany County, Virginia</td>\n",
       "      <td>91367</td>\n",
       "      <td>23595</td>\n",
       "      <td>1769</td>\n",
       "      <td>an American county located on the far western ...</td>\n",
       "      <td>2024-06-21T08:11:55Z</td>\n",
       "    </tr>\n",
       "  </tbody>\n",
       "</table>\n",
       "<p>500 rows × 7 columns</p>\n",
       "</div>"
      ],
      "text/plain": [
       "     ns                                    title    pageid    size  wordcount  \\\n",
       "0     0                                 Virginia     32432  306919      26638   \n",
       "1     0                            West Virginia     32905  186926      17931   \n",
       "2     0                 Virginia Beach, Virginia     91239  151468      13478   \n",
       "3     0  List of municipalities in West Virginia  47238088   40608         87   \n",
       "4     0                           Virginia Woolf     32742  158860      16396   \n",
       "..   ..                                      ...       ...     ...        ...   \n",
       "495   0             Tucker County, West Virginia     91004   28890       2342   \n",
       "496   0                         Crozet, Virginia    137490   13522       1352   \n",
       "497   0                   Giles County, Virginia     91316   18742       1308   \n",
       "498   0                         Army of Virginia   1375163    5373        575   \n",
       "499   0               Alleghany County, Virginia     91367   23595       1769   \n",
       "\n",
       "                                               snippet             timestamp  \n",
       "0    <span class=\"searchmatch\">Virginia</span>, off...  2024-06-24T19:11:24Z  \n",
       "1    West <span class=\"searchmatch\">Virginia</span>...  2024-06-13T19:54:31Z  \n",
       "2    <span class=\"searchmatch\">Virginia</span> Beac...  2024-06-21T03:10:21Z  \n",
       "3    West <span class=\"searchmatch\">Virginia</span>...  2024-05-05T01:13:57Z  \n",
       "4    Adeline <span class=\"searchmatch\">Virginia</sp...  2024-06-22T21:38:06Z  \n",
       "..                                                 ...                   ...  \n",
       "495  county in the U.S. state of West <span class=\"...  2023-12-15T20:24:27Z  \n",
       "496  census-designated place (CDP) in Albemarle Cou...  2024-05-07T02:48:38Z  \n",
       "497  Giles County is a county located in the U.S. s...  2024-06-21T18:24:08Z  \n",
       "498  The Army of <span class=\"searchmatch\">Virginia...  2024-04-14T16:15:44Z  \n",
       "499  an American county located on the far western ...  2024-06-21T08:11:55Z  \n",
       "\n",
       "[500 rows x 7 columns]"
      ]
     },
     "execution_count": 63,
     "metadata": {},
     "output_type": "execute_result"
    }
   ],
   "source": [
    "myjson = json.loads(r.text)\n",
    "wiki_df = pd.json_normalize(myjson, record_path = [\"query\", \"search\"])\n",
    "wiki_df"
   ]
  },
  {
   "cell_type": "markdown",
   "id": "0347417f-292f-4372-a656-bbcf2bd353d7",
   "metadata": {},
   "source": [
    "## News API"
   ]
  },
  {
   "cell_type": "code",
   "execution_count": 42,
   "id": "162d7b1a-5471-47e3-8d78-056aace6164e",
   "metadata": {},
   "outputs": [],
   "source": [
    "# DO NOT DO THIS; use .env file instead\n",
    "apikey = \"2b3d1ee7fda24fc28c03efabb048d3a6\""
   ]
  },
  {
   "cell_type": "code",
   "execution_count": 57,
   "id": "e95c2b0b-23b7-4d59-bae0-c4a9f97ddb01",
   "metadata": {},
   "outputs": [
    {
     "data": {
      "text/plain": [
       "<Response [200]>"
      ]
     },
     "execution_count": 57,
     "metadata": {},
     "output_type": "execute_result"
    }
   ],
   "source": [
    "params = {\"q\": \"Florida man\",\n",
    "          \"apiKey\": apikey}\n",
    "url = \"https://newsapi.org/v2/everything\"\n",
    "r = requests.get(url, headers = headers, params=params)\n",
    "r"
   ]
  },
  {
   "cell_type": "code",
   "execution_count": 59,
   "id": "979f1dc2-1254-4a58-a96d-c03524654a09",
   "metadata": {},
   "outputs": [],
   "source": [
    "myjson = json.loads(r.text)\n",
    "news_df = pd.json_normalize(myjson, record_path = [\"articles\"])"
   ]
  },
  {
   "cell_type": "code",
   "execution_count": 60,
   "id": "5f3e0e33-0de5-42c7-8929-2bf8ce869228",
   "metadata": {},
   "outputs": [
    {
     "name": "stdout",
     "output_type": "stream",
     "text": [
      "Florida Man Thinks He’s Smarter Than Highway Patrol\n",
      "Florida Man Builds 10-Foot-Wide Tiny Home To Spite Neighbors, Then Lists It For $600,000\n",
      "Florida man pleads not guilty to kidnapping his estranged wife from her apartment in Spain\n",
      "The Florida deputy who shot U.S. airman Roger Fortson has been fired\n",
      "Man who fled California due to the ‘cost of living, politics, traffic and crime’ says he’s ‘much happier’ in Florida\n",
      "3 Alabama Men Die After Becoming Distressed While Swimming at Florida Beach\n",
      "Florida two-way star Caglianone keys MCWS win\n",
      "Florida sniper shoots, kills bank robber holding hostages through computer monitor: Video\n",
      "Display of a captured wolf in a Wyoming bar brings outrage\n",
      "3 Alabama men die after becoming distressed while swimming at Florida beach\n",
      "WATCH: Florida fugitive flees traffic stop, is rammed by police\n",
      "WATCH: Florida braces for new round of dangerous flooding\n",
      "WATCH: 12-year-old wins 2024 Scripps National Spelling Bee\n",
      "WATCH: Sea turtles interact in rare sighting off the coast of Florida\n",
      "Here's what every member of the Trump family is up to after leaving the White House\n",
      "Video that appears to show IDF soldier threatening mutiny in Gaza shared by son of Israeli PM Benjamin Netanyahu, say reports\n",
      "Aggressive Shark Repeatedly Rams Florida Man’s Jet Ski\n",
      "Officers indicted for 2019 shootout with robbers that killed UPS driver and passerby\n",
      "See it: Catfish 'the size of a 6th grader' tops state record after pulled from Oklahoma reservoir\n",
      "Extreme heat contributed to his brother’s death. He worries he could be next\n",
      "Passenger Dies After Falling Overboard From World’s Largest Cruise Ship\n",
      "'I’m One Tap Away From Publishing Your Nudes': 12 Horror Stories About Extortion Attempts on Grindr\n",
      "2 Live Crew Rapper Brother Marquis Dies at 58\n",
      "With Tyson out, Paul to fight Bare Knuckle's Perry\n",
      "WR Dell on shooting: 'Wrong place, wrong time'\n",
      "Lifeguard Dies After Being Attacked by Shark While Surfing in Hawaii\n",
      "A passenger fell off the world’s biggest cruise ship and died\n",
      "Crime blotter: California Apple Store theft suspects in court\n",
      "Florida Sniper Shoots Bank Robber Through Computer, Rescues Hostages\n",
      "Panthers Win Game 2 vs. McDavid, Oilers as NHL Fans Hype Evan Rodrigues' Late Goals\n",
      "A Florida family is suing NASA after a piece of space debris crashed through their home\n",
      "5 great Netflix movies to watch on Juneteenth\n",
      "19-year-old speaks out after surviving shark attack in Texas\n",
      "Oklahoma voters to decide between GOP incumbent Tom Cole, challenger Paul Bondar\n",
      "Heat and snowfall, rain and wildfires. It’s a week of extreme weather in the U.S\n",
      "Two years after Dobbs; militants attack in southern Russia\n",
      "At Least 22 Dead After Memorial Day Weekend Storms Sweep Through Several States\n",
      "Volusia, Flagler sheriffs' offices face lawsuits over chase that killed innocent siblings\n",
      "Alligator Attacks Man Swimming in Florida Lake\n",
      "Insider Today: Travel agents are back\n",
      "Draisaitl verliert mit den Oilers auch das dritte NHL-Finalspiel\n",
      "Rory McIlroy, Wife Erica Call Off Divorce: Our 'Best Future' Is as a Family Together\n",
      "Florida Sheriff Grady Judd Decides He’s Capable Of Running An AI Crime Thingy\n",
      "Studie zu den USA: Ältere Frauen verbreiten besonders viel Desinformation\n",
      "Deadly Winter Springs carjacking suspects set woman ablaze after carjacking her for $170K: new federal docs\n",
      "Arizona Man Indicted After Planning Mass Shooting at Atlanta Concert to Incite Race War\n",
      "AI chatbots just can’t shake off gender stereotypes, here’s why\n",
      "What Mitch McConnell's truce with Trump means\n",
      "Giant Venomous Flying Spiders Invading New York, Spreading Up East Coast\n",
      "New Florida Law Allows C-Sections To Be Performed By Any Machete-Wielding Lunatic\n",
      "Accused lookout in James “Whitey” Bulger prison killing pleads guilty, gets no additional time\n",
      "Rangers Take 2-1 Series Lead vs. Panthers as NHL Fans Praise Wennberg's G3 OT Goal\n",
      "Florida man arrested over surprise furniture donation in NYC [Florida]\n",
      "A Director Cameo Unites The Bad Boys Sequels – And It Demands A Proper Investigation\n",
      "Florida Man: \"Man, I'm gonna go to the grocery store and start cooking\" [Florida]\n",
      "Vivek Ramaswamy's 'Truth': What the Trump VP prospect's podcast reveals about his future\n",
      "Wild pigs, conquering all Florida counties, now taking over USA...\n",
      "Some Gen Z and baby boomers are facing a strange predicament: feeling happy and lonely at the same time\n",
      "Florida Man tries to recreate 'Lord of the Flies' with predictable results [Florida]\n",
      "Taking the right seriously\n",
      "Trump-endorsed Nancy Mace fighting to keep her South Carolina congressional seat\n",
      "Garland blasts conspiracy theories about Trump criminal case and FBI\n",
      "All the People Who Have Been Shot by Their Dogs\n",
      "Denzel Curry – “Hot One” (Feat. FERG & TiaCorine)\n",
      "New 'Space Cadet' trailer enlists Emma Roberts into NASA's astronaut program (video)\n",
      "Florida man with same name as Deadpool character sits in court with ridiculous new face tattoos [Florida]\n",
      "Florida teens reenact Fast & Furious to save passed-out man in sinking car. Vin Diesel would be proud [Florida]\n",
      "If You Build It (a Cricket Stadium on Long Island), Will They Come?\n",
      "When Yorkie-poos Fly\n",
      "★ Trump Endorses Louisiana Law Requiring the Ten Commandments Be Displayed in Public Schools\n",
      "Emma Roberts Trains to Be an Astronaut in 'Space Cadet' Movie Trailer\n",
      "Angry Florida Man Rams Deputy’s Car\n",
      "The Florida Man Who Headbanged in a Hurricane\n",
      "Florida Man Pleads Guilty to Wire Fraud Conspiracy Tied to Forcount Crypto Ponzi\n",
      "How George Floyd’s Death Exposed a Fake Syndrome: ‘Excited Delirium’\n",
      "EA Sports College Football 25 preview: Come for the pageantry, stay for the gameplay\n",
      "Convicted Felon Trump Forced to Beg Most Embarrassing Ally for Help\n",
      "„War überrascht, wie nahe sie waren“ - Kreuzfahrt-Passagier berichtet von Begegnung mit russischen Kriegsschiffen\n",
      "FLORIDA MAN FRIDAY [VIP]: The Score Doesn’t Lie: This Is the Greatest Florida Man Friday EVER.\n",
      "DNA on plastic fork in Florida cracks 15-year-old unsolved NYC homicide\n",
      "Trump flunks another science test in ‘Fox & Friends’ interview\n",
      "Dave Grohl Takes Jab At Taylor Swift During Foo Fighters’ London Show: “We Actually Play Live”\n",
      "Groom-to-be catches massive hammerhead shark during bachelor party in Florida. Cool tag steps in as best man [Cool]\n",
      "How to Pick Stocks Like You’re in Congress\n",
      "It is that time of the year again\n",
      "Given the choice of paying for his stolen beer or going to jail, Florida Man pops one open and picks the latter option [Florida]\n",
      "An inside look at the weekend the GameStop frenzy began on WallStreetBets\n",
      "Man arrested after going into unlocked bank and not stealing any money [Florida]\n",
      "Jing Ai Ng’s Dark Comedy ‘Forge’ Adds Seven To Cast\n",
      "Stonks, music history, geography, and Florida Man are all on the Fark Weird News Quiz, May 30 - June 5 D-Day Edition [Weird]\n",
      "The legacy of Chester Stone, Florida man and internet sensation\n",
      "Florida homeless men sue Seminole for criminalizing panhandling\n",
      "The Misfit Who Built the IBM PC\n",
      "John Calipari Talks New Roster 'Formula' at Arkansas, Lessons Learned from Kentucky\n",
      "A Florida Man Was Arrested for Filming Marion County Sheriff's Deputies. Now He's Suing.\n",
      "FLORIDA, MAN: Florida ranked top of list for startup activity, economic health. “For its findings, W\n",
      "College Baseball Super Regionals 2024: Results, Highlights and Bracket from Friday\n",
      "Honor Thy Father: The Saga Of A Drug Smuggler’s Son\n",
      "Nation Gripped by Mystery of Missing Florida Woman Who Went to Start New Life Overseas\n",
      "Wie dieser Satellit die Wettervorhersagen deutlich verbessern soll\n"
     ]
    },
    {
     "data": {
      "text/plain": [
       "[None,\n",
       " None,\n",
       " None,\n",
       " None,\n",
       " None,\n",
       " None,\n",
       " None,\n",
       " None,\n",
       " None,\n",
       " None,\n",
       " None,\n",
       " None,\n",
       " None,\n",
       " None,\n",
       " None,\n",
       " None,\n",
       " None,\n",
       " None,\n",
       " None,\n",
       " None,\n",
       " None,\n",
       " None,\n",
       " None,\n",
       " None,\n",
       " None,\n",
       " None,\n",
       " None,\n",
       " None,\n",
       " None,\n",
       " None,\n",
       " None,\n",
       " None,\n",
       " None,\n",
       " None,\n",
       " None,\n",
       " None,\n",
       " None,\n",
       " None,\n",
       " None,\n",
       " None,\n",
       " None,\n",
       " None,\n",
       " None,\n",
       " None,\n",
       " None,\n",
       " None,\n",
       " None,\n",
       " None,\n",
       " None,\n",
       " None,\n",
       " None,\n",
       " None,\n",
       " None,\n",
       " None,\n",
       " None,\n",
       " None,\n",
       " None,\n",
       " None,\n",
       " None,\n",
       " None,\n",
       " None,\n",
       " None,\n",
       " None,\n",
       " None,\n",
       " None,\n",
       " None,\n",
       " None,\n",
       " None,\n",
       " None,\n",
       " None,\n",
       " None,\n",
       " None,\n",
       " None,\n",
       " None,\n",
       " None,\n",
       " None,\n",
       " None,\n",
       " None,\n",
       " None,\n",
       " None,\n",
       " None,\n",
       " None,\n",
       " None,\n",
       " None,\n",
       " None,\n",
       " None,\n",
       " None,\n",
       " None,\n",
       " None,\n",
       " None,\n",
       " None,\n",
       " None,\n",
       " None,\n",
       " None,\n",
       " None,\n",
       " None,\n",
       " None,\n",
       " None,\n",
       " None,\n",
       " None]"
      ]
     },
     "execution_count": 60,
     "metadata": {},
     "output_type": "execute_result"
    }
   ],
   "source": [
    "[print(x) for x in news_df['title']]"
   ]
  },
  {
   "cell_type": "code",
   "execution_count": null,
   "id": "ebd63abf-7eb8-4b34-a235-455ae434cf1d",
   "metadata": {},
   "outputs": [],
   "source": []
  }
 ],
 "metadata": {
  "kernelspec": {
   "display_name": "Python 3 (ipykernel)",
   "language": "python",
   "name": "python3"
  },
  "language_info": {
   "codemirror_mode": {
    "name": "ipython",
    "version": 3
   },
   "file_extension": ".py",
   "mimetype": "text/x-python",
   "name": "python",
   "nbconvert_exporter": "python",
   "pygments_lexer": "ipython3",
   "version": "3.12.2"
  }
 },
 "nbformat": 4,
 "nbformat_minor": 5
}
