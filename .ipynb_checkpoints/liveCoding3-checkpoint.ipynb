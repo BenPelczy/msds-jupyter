{
 "cells": [
  {
   "cell_type": "code",
   "execution_count": 1,
   "id": "fa8df64b-d58c-4e9f-bb33-e1740b6b9ea9",
   "metadata": {},
   "outputs": [],
   "source": [
    "import numpy as np\n",
    "import pandas as pd\n",
    "import dotenv\n",
    "import requests\n",
    "import json\n",
    "import os"
   ]
  },
  {
   "cell_type": "code",
   "execution_count": 2,
   "id": "4b5b5545-8630-4c0c-9a21-247b8893ef71",
   "metadata": {},
   "outputs": [
    {
     "data": {
      "text/plain": [
       "<Response [200]>"
      ]
     },
     "execution_count": 2,
     "metadata": {},
     "output_type": "execute_result"
    }
   ],
   "source": [
    "url = \"https://httpbin.org/user-agent\"\n",
    "r = requests.get(url)\n",
    "r"
   ]
  },
  {
   "cell_type": "code",
   "execution_count": 3,
   "id": "7db8b2f7-f4fb-4855-9d8e-3a63fcf47f82",
   "metadata": {},
   "outputs": [],
   "source": [
    "myjson = json.loads(r.text)\n",
    "useragent = myjson[\"user-agent\"]\n",
    "headers = {\"User-Agent\": useragent, \"From\": \"mdg7wj@virginia.edu\"}"
   ]
  },
  {
   "cell_type": "code",
   "execution_count": 2,
   "id": "b6a1839e-9364-4ae7-ba79-5f3263f39a38",
   "metadata": {},
   "outputs": [],
   "source": [
    "dotenv.load_dotenv()\n",
    "newskey = os.getenv('newskey')"
   ]
  },
  {
   "cell_type": "code",
   "execution_count": null,
   "id": "4d3bec96-1537-418f-993c-a511a9d3c884",
   "metadata": {},
   "outputs": [],
   "source": []
  }
 ],
 "metadata": {
  "kernelspec": {
   "display_name": "Python 3 (ipykernel)",
   "language": "python",
   "name": "python3"
  },
  "language_info": {
   "codemirror_mode": {
    "name": "ipython",
    "version": 3
   },
   "file_extension": ".py",
   "mimetype": "text/x-python",
   "name": "python",
   "nbconvert_exporter": "python",
   "pygments_lexer": "ipython3",
   "version": "3.12.2"
  }
 },
 "nbformat": 4,
 "nbformat_minor": 5
}
